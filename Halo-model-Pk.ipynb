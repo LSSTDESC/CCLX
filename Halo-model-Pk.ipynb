{
 "cells": [
  {
   "cell_type": "markdown",
   "metadata": {},
   "source": [
    "# Halo model power spectra\n",
    "This example illustrates how to use CCL to calculate power spectra using the halo model."
   ]
  },
  {
   "cell_type": "code",
   "execution_count": 1,
   "metadata": {},
   "outputs": [],
   "source": [
    "import numpy as np\n",
    "import pyccl as ccl\n",
    "import pylab as plt\n",
    "import matplotlib.cm as cm\n",
    "from scipy.special import erf\n",
    "%matplotlib inline"
   ]
  },
  {
   "cell_type": "markdown",
   "metadata": {},
   "source": [
    "## Preliminaries\n",
    "Generate a cosmology object and a couple of $k$ (comoving wavenumber) and $a$ (scale factor) arrays."
   ]
  },
  {
   "cell_type": "code",
   "execution_count": 2,
   "metadata": {},
   "outputs": [],
   "source": [
    "# Cosmology\n",
    "cosmo = ccl.Cosmology(Omega_c=0.27, Omega_b=0.045, h=0.67, sigma8=0.83, n_s=0.96)\n",
    "\n",
    "# Wavenumbers and scale factors\n",
    "k_arr = np.geomspace(1E-4,1E1,256)\n",
    "a_arr = np.linspace(0.1,1,32)\n"
   ]
  },
  {
   "cell_type": "markdown",
   "metadata": {},
   "source": [
    "Let us also initialize a series of halo model quantities. We will need:\n",
    "- A halo mass definition.\n",
    "- A concentration-mass relation.\n",
    "- A halo mass function parametrization.\n",
    "- A halo bias parametrization.\n",
    "- Halo profiles corresponding to the quantities we want to compute the power spectrum of."
   ]
  },
  {
   "cell_type": "code",
   "execution_count": 3,
   "metadata": {},
   "outputs": [],
   "source": [
    "# We will use a mass definition with Delta = 200 times the matter density\n",
    "hmd_200m = ccl.halos.MassDef200m()\n",
    "\n",
    "# The Duffy 2008 concentration-mass relation\n",
    "cM = ccl.halos.ConcentrationDuffy08(hmd_200m)\n",
    "\n",
    "# The Tinker 2008 mass function\n",
    "nM = ccl.halos.MassFuncTinker08(cosmo, mass_def=hmd_200m)\n",
    "\n",
    "# The Tinker 2010 halo bias\n",
    "bM = ccl.halos.HaloBiasTinker10(cosmo, mass_def=hmd_200m)\n",
    "\n",
    "# The NFW profile to characterize the matter density around halos\n",
    "pM = ccl.halos.profiles.HaloProfileNFW(cM)"
   ]
  },
  {
   "cell_type": "markdown",
   "metadata": {},
   "source": [
    "Additionally, in order to showcase the flexibility of the current halo model implementation, let us create our own halo profile characterizing the galaxy overdensity using a Halo Occupation Distribution model. We will use the same parametrization used in Nicola et al. https://arxiv.org/abs/1912.08209."
   ]
  },
  {
   "cell_type": "code",
   "execution_count": 4,
   "metadata": {},
   "outputs": [],
   "source": [
    "class HaloProfileHOD(ccl.halos.HaloProfileNFW):\n",
    "    def __init__(self, c_M_relation,\n",
    "                 lMmin=12.02, lMminp=-1.34,\n",
    "                 lM0=6.6, lM0p=-1.43,\n",
    "                 lM1=13.27, lM1p=-0.323):\n",
    "        self.lMmin=lMmin\n",
    "        self.lMminp=lMminp\n",
    "        self.lM0=lM0\n",
    "        self.lM0p=lM0p\n",
    "        self.lM1=lM1\n",
    "        self.lM1p=lM1p\n",
    "        self.a0 = 1./(1+0.65)\n",
    "        self.sigmaLogM = 0.4\n",
    "        self.alpha = 1.\n",
    "        super(HaloProfileHOD, self).__init__(c_M_relation)\n",
    "        self._fourier = self._fourier_analytic_hod\n",
    "\n",
    "    def _lMmin(self, a):\n",
    "        return self.lMmin + self.lMminp * (a - self.a0)\n",
    "\n",
    "    def _lM0(self, a):\n",
    "        return self.lM0 + self.lM0p * (a - self.a0)\n",
    "\n",
    "    def _lM1(self, a):\n",
    "        return self.lM1 + self.lM1p * (a - self.a0)\n",
    "\n",
    "    def _Nc(self, M, a):\n",
    "        # Number of centrals\n",
    "        Mmin = 10.**self._lMmin(a)\n",
    "        return 0.5 * (1 + erf(np.log(M / Mmin) / self.sigmaLogM))\n",
    "\n",
    "    def _Ns(self, M, a):\n",
    "        # Number of satellites\n",
    "        M0 = 10.**self._lM0(a)\n",
    "        M1 = 10.**self._lM1(a)\n",
    "        return np.heaviside(M-M0,1) * ((M - M0) / M1)**self.alpha\n",
    "\n",
    "    def _fourier_analytic_hod(self, cosmo, k, M, a, mass_def):\n",
    "        M_use = np.atleast_1d(M)\n",
    "        k_use = np.atleast_1d(k)\n",
    "\n",
    "        Nc = self._Nc(M_use, a)\n",
    "        Ns = self._Ns(M_use, a)\n",
    "        # NFW profile\n",
    "        uk = self._fourier_analytic(cosmo, k_use, M_use, a, mass_def) / M_use[:, None]\n",
    "\n",
    "        prof = Nc[:, None] * (1 + Ns[:, None] * uk)\n",
    "\n",
    "        if np.ndim(k) == 0:\n",
    "            prof = np.squeeze(prof, axis=-1)\n",
    "        if np.ndim(M) == 0:\n",
    "            prof = np.squeeze(prof, axis=0)\n",
    "        return prof\n",
    "\n",
    "    def _fourier_variance(self, cosmo, k, M, a, mass_def):\n",
    "        # Fourier-space variance of the HOD profile\n",
    "        M_use = np.atleast_1d(M)\n",
    "        k_use = np.atleast_1d(k)\n",
    "\n",
    "        Nc = self._Nc(M_use, a)\n",
    "        Ns = self._Ns(M_use, a)\n",
    "        # NFW profile\n",
    "        uk = self._fourier_analytic(cosmo, k_use, M_use, a, mass_def) / M_use[:, None]\n",
    "\n",
    "        prof = Ns[:, None] * uk\n",
    "        prof = Nc[:, None] * (2 * prof + prof**2)\n",
    "\n",
    "        if np.ndim(k) == 0:\n",
    "            prof = np.squeeze(prof, axis=-1)\n",
    "        if np.ndim(M) == 0:\n",
    "            prof = np.squeeze(prof, axis=0)\n",
    "        return prof\n",
    "\n",
    "pg = HaloProfileHOD(cM)"
   ]
  },
  {
   "cell_type": "markdown",
   "metadata": {},
   "source": [
    "## Halo model power spectra\n",
    "\n",
    "The halo-model power spectrum for two quantities defined by their halo profiles $u$ and $v$ is given by\n",
    "\\begin{equation}\n",
    "   P_{uv}(k) = \\int dM\\,n(M)\\,\\langle u(k|M)\\,v(k|M)\\rangle + \\left[\\int dM\\,n(M)\\,b(M)\\,\\langle u(k|M)\\rangle\\right]\\,\\left[\\int dM\\,n(M)\\,b(M)\\,\\langle v(k|M)\\rangle\\right]\\,P_{\\rm lin}(k).\n",
    "\\end{equation}\n",
    "\n",
    "The first part, the so-called \"one-halo\" term, involves the Fourier-space two-point cumulant of the two profiles ($\\langle u(k|M)\\,v(k|M)\\rangle$). This is often approximated by the product of the profile means ($\\langle u(k|M)\\rangle\\,\\langle v(k|M)\\rangle$), but this is not correct in general (e.g. for the HOD profile). For this reason, the computation of the halo model power spectrum in CCL requires three main ingredients:\n",
    "- The two profiles to be correlated.\n",
    "- The linear matter power spectrum. Together with the profile means it controls the 2-halo term.\n",
    "- The two-point cumulant of the two profiles, controlling the 1-halo term. By default we will set this to the product of the profile means, but we provide ways to define your own two-points.\n",
    "\n",
    "Let's start by computing the different auto- and cross-correlations between matter and galaxy overdensities at $z=0$.\n",
    "\n",
    "The first step is creating a `HMCalculator` object that essentially takes care of the mass integrals."
   ]
  },
  {
   "cell_type": "code",
   "execution_count": 5,
   "metadata": {},
   "outputs": [],
   "source": [
    "hmc = ccl.halos.HMCalculator(cosmo, nM, bM, hmd_200m)"
   ]
  },
  {
   "cell_type": "markdown",
   "metadata": {},
   "source": [
    "Now let's start computing the different power spectra. Note that, because we are interested in overdensities, we normalize by the means of both quantities. This is done by setting the `normprof` parameters of all method calls to `True`.\n",
    "\n",
    "### 1. Matter-matter"
   ]
  },
  {
   "cell_type": "code",
   "execution_count": 6,
   "metadata": {},
   "outputs": [],
   "source": [
    "pk_MM = ccl.halos.halomod_power_spectrum(cosmo, hmc, k_arr, 1.,\n",
    "                                         pM, normprof1=True)"
   ]
  },
  {
   "cell_type": "markdown",
   "metadata": {},
   "source": [
    "### 2. Galaxy-matter"
   ]
  },
  {
   "cell_type": "code",
   "execution_count": 7,
   "metadata": {},
   "outputs": [],
   "source": [
    "pk_gM = ccl.halos.halomod_power_spectrum(cosmo, hmc, k_arr, 1.,\n",
    "                                         pg, prof2=pM,\n",
    "                                         normprof1=True, normprof2=True)"
   ]
  },
  {
   "cell_type": "markdown",
   "metadata": {},
   "source": [
    "### 3. Galaxy-galaxy\n",
    "\n",
    "In this case we have a non-trivial two-point cumulant (see Eq. 3.9 of https://arxiv.org/abs/1909.09102). To deal with this we first create a `ProfileCovar` object that implements this."
   ]
  },
  {
   "cell_type": "code",
   "execution_count": 8,
   "metadata": {},
   "outputs": [],
   "source": [
    "class Profile2ptHOD(ccl.halos.Profile2pt):\n",
    "    def fourier_2pt(self, prof, cosmo, k, M, a,\n",
    "                      prof2=None, mass_def=None):\n",
    "        return prof._fourier_variance(cosmo, k, M ,a, mass_def)\n",
    "HOD2pt = Profile2ptHOD()\n",
    "    \n",
    "pk_gg = ccl.halos.halomod_power_spectrum(cosmo, hmc, k_arr, 1.,\n",
    "                                         pg, prof_2pt=HOD2pt,\n",
    "                                         normprof1=True)"
   ]
  },
  {
   "cell_type": "markdown",
   "metadata": {},
   "source": [
    "OK, great, now let's plot the power spectra!"
   ]
  },
  {
   "cell_type": "code",
   "execution_count": 9,
   "metadata": {},
   "outputs": [
    {
     "data": {
      "image/png": "[encoded data removed]",
      "text/plain": [
       "<Figure size 432x288 with 1 Axes>"
      ]
     },
     "metadata": {},
     "output_type": "display_data"
    }
   ],
   "source": [
    "plt.figure()\n",
    "plt.plot(k_arr, pk_MM, 'r-', label='$P_{MM}(k)$')\n",
    "plt.plot(k_arr, pk_gM, 'b-', label='$P_{gM}(k)$')\n",
    "plt.plot(k_arr, pk_gg, 'y-', label='$P_{gg}(k)$')\n",
    "plt.xscale('log')\n",
    "plt.yscale('log')\n",
    "plt.legend(loc='lower left', fontsize=15)\n",
    "plt.ylabel(r'$P(k)\\,\\,[{\\rm Mpc}^3]$', fontsize=15)\n",
    "plt.xlabel(r'$k\\,\\,[{\\rm Mpc}^{-1}]$', fontsize=15);"
   ]
  },
  {
   "cell_type": "markdown",
   "metadata": {},
   "source": [
    "## 2D power spectra and $C_\\ell$s\n",
    "\n",
    "The `HMCalculator` objects can also provide `Pk2D` power spectrum objects that can then be used to perform Limber integrals and compute angular power spectra. Let's do so for the 3D cross correlations we just looked at.\n",
    "\n",
    "First, let's create two CCL tracers, a `NumberCountsTracer` that we will associate with the galaxy overdensity, and a `WeakLensing` tracer that we will associate with the matter overdensity."
   ]
  },
  {
   "cell_type": "code",
   "execution_count": 10,
   "metadata": {},
   "outputs": [],
   "source": [
    "z_arr = np.linspace(0,0.5,256)\n",
    "nz_arr = np.exp(-((z_arr - 0.25) / 0.05)**2)\n",
    "\n",
    "# We give it unit bias because the HOD P(k) is already biased\n",
    "t_g = ccl.NumberCountsTracer(cosmo, False, (z_arr, nz_arr),\n",
    "                             bias=(z_arr, np.ones_like(z_arr)))\n",
    "t_M = ccl.WeakLensingTracer(cosmo, (z_arr, nz_arr))"
   ]
  },
  {
   "cell_type": "markdown",
   "metadata": {},
   "source": [
    "Now let's create `Pk2D` objects for the three cross correlations"
   ]
  },
  {
   "cell_type": "code",
   "execution_count": 11,
   "metadata": {},
   "outputs": [],
   "source": [
    "pk_MMf = ccl.halos.halomod_Pk2D(cosmo, hmc, pM,\n",
    "                                normprof1=True,\n",
    "                                lk_arr=np.log(k_arr), a_arr=a_arr)\n",
    "pk_gMf = ccl.halos.halomod_Pk2D(cosmo, hmc, pg, prof2=pM,\n",
    "                                normprof1=True, normprof2=True,\n",
    "                                lk_arr=np.log(k_arr), a_arr=a_arr)\n",
    "pk_ggf = ccl.halos.halomod_Pk2D(cosmo, hmc, pg, prof_2pt=HOD2pt,\n",
    "                                normprof1=True,\n",
    "                                lk_arr=np.log(k_arr), a_arr=a_arr)"
   ]
  },
  {
   "cell_type": "markdown",
   "metadata": {},
   "source": [
    "Now let's use these to compute $C_\\ell$s"
   ]
  },
  {
   "cell_type": "code",
   "execution_count": 12,
   "metadata": {},
   "outputs": [],
   "source": [
    "l_arr = np.unique(np.geomspace(2, 1000, 64).astype(int))\n",
    "\n",
    "cl_MM = ccl.angular_cl(cosmo, t_M, t_M, l_arr, p_of_k_a=pk_MMf)\n",
    "cl_gM = ccl.angular_cl(cosmo, t_g, t_M, l_arr, p_of_k_a=pk_gMf)\n",
    "cl_gg = ccl.angular_cl(cosmo, t_g, t_g, l_arr, p_of_k_a=pk_ggf)\n"
   ]
  },
  {
   "cell_type": "markdown",
   "metadata": {},
   "source": [
    "Alright, plotting time!"
   ]
  },
  {
   "cell_type": "code",
   "execution_count": 13,
   "metadata": {},
   "outputs": [
    {
     "data": {
      "image/png": "[encoded data removed]",
      "text/plain": [
       "<Figure size 432x288 with 1 Axes>"
      ]
     },
     "metadata": {},
     "output_type": "display_data"
    }
   ],
   "source": [
    "plt.figure()\n",
    "lfac = l_arr * (l_arr + 1) / (2 * np.pi)\n",
    "plt.plot(l_arr, lfac * cl_MM, 'r-', label='$\\gamma\\gamma$')\n",
    "plt.plot(l_arr, lfac * cl_gM, 'b-', label='$g\\gamma$')\n",
    "plt.plot(l_arr, lfac * cl_gg, 'y-', label='$gg$')\n",
    "plt.xscale('log')\n",
    "plt.yscale('log')\n",
    "plt.legend(loc='upper left', fontsize=15, ncol=2, frameon=False)\n",
    "plt.ylabel(r'$\\ell(\\ell+1)C_\\ell/(2\\pi)$', fontsize=15)\n",
    "plt.xlabel(r'$\\ell$', fontsize=15);"
   ]
  },
  {
   "cell_type": "code",
   "execution_count": null,
   "metadata": {},
   "outputs": [],
   "source": []
  }
 ],
 "metadata": {
  "kernelspec": {
   "display_name": "Python 3",
   "language": "python",
   "name": "python3"
  },
  "language_info": {
   "codemirror_mode": {
    "name": "ipython",
    "version": 3
   },
   "file_extension": ".py",
   "mimetype": "text/x-python",
   "name": "python",
   "nbconvert_exporter": "python",
   "pygments_lexer": "ipython3",
   "version": "3.6.8"
  }
 },
 "nbformat": 4,
 "nbformat_minor": 2
}
