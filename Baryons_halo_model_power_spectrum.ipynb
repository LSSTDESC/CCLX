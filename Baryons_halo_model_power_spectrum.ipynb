{
 "cells": [
  {
   "cell_type": "markdown",
   "id": "f45337c1",
   "metadata": {
    "id": "f45337c1"
   },
   "source": [
    "# Baryonic halo model \n",
    "\n",
    "In this example, we illustrate how to build a baryonic halo model in CCL. We follow mostly the equations in Fedeli (2014), arXiv:1401.2997, with some small modifications."
   ]
  },
  {
   "cell_type": "code",
   "execution_count": 1,
   "id": "35e32a88",
   "metadata": {
    "id": "35e32a88"
   },
   "outputs": [],
   "source": [
    "import numpy as np\n",
    "import pyccl as ccl\n",
    "import pylab as plt\n",
    "import matplotlib.cm as cm\n",
    "from scipy.special import erf\n",
    "from scipy import integrate\n",
    "from scipy import interpolate\n",
    "from functools import partial\n",
    "%matplotlib inline"
   ]
  },
  {
   "cell_type": "markdown",
   "id": "00b84b32",
   "metadata": {
    "id": "00b84b32"
   },
   "source": [
    "## Preliminaries\n",
    "\n",
    "Generate a cosmology and a vector with wavenumbers. We will work only at $z=0$ for this example."
   ]
  },
  {
   "cell_type": "code",
   "execution_count": 2,
   "id": "fcc34041",
   "metadata": {
    "id": "fcc34041"
   },
   "outputs": [],
   "source": [
    "# Cosmology\n",
    "cosmo = ccl.Cosmology(Omega_c=0.196, Omega_b=0.042, h=0.73, sigma8=0.74, n_s=0.951)\n",
    "\n",
    "# Wavenumbers \n",
    "k_arr = np.geomspace(1E-2,1E2,256)\n",
    "\n",
    "# Scale factor\n",
    "a_sf=1"
   ]
  },
  {
   "cell_type": "markdown",
   "id": "f501c5cd",
   "metadata": {
    "id": "f501c5cd"
   },
   "source": [
    "Let us also initialize a series of halo model quantities. We will need:\n",
    "\n",
    "- A halo mass definition.\n",
    "- A concentration-mass relation.\n",
    "- A halo mass function parametrization.\n",
    "- A halo bias parametrization.\n",
    "- Halo density profiles (for the dark matter part of the model)."
   ]
  },
  {
   "cell_type": "code",
   "execution_count": 3,
   "id": "fdaf3191",
   "metadata": {
    "id": "fdaf3191"
   },
   "outputs": [],
   "source": [
    "# We will use a mass definition with Delta = 200 times the matter density\n",
    "hmd_200m = ccl.halos.MassDef(200, 'matter')\n",
    "# The Tinker 2008 mass function\n",
    "hmf_200m = ccl.halos.MassFuncTinker08(mass_def=hmd_200m, mass_def_strict=False)\n",
    "# The Tinker 2010 halo bias\n",
    "hbf = ccl.halos.HaloBiasTinker10(mass_def=hmd_200m, mass_def_strict=False)\n",
    "# The Duffy 2008 concentration-mass relation\n",
    "cM = ccl.halos.ConcentrationDuffy08(mass_def=hmd_200m)\n",
    "# The NFW profile to characterize the matter density around halos\n",
    "pM = ccl.halos.HaloProfileNFW(mass_def=hmd_200m, concentration=cM)\n",
    "hmc = ccl.halos.HMCalculator(mass_function=hmf_200m, halo_bias=hbf,mass_def=hmd_200m)"
   ]
  },
  {
   "cell_type": "markdown",
   "id": "fe2846df",
   "metadata": {
    "id": "fe2846df"
   },
   "source": [
    "The baryonic halo model consists of three ingredients: gas, stars and dark matter. The contribution of each ingredient is weighted by their energy density at $z=0$, which are given by"
   ]
  },
  {
   "cell_type": "code",
   "execution_count": 4,
   "id": "a070f05f",
   "metadata": {
    "id": "a070f05f"
   },
   "outputs": [],
   "source": [
    "# Define some useful densities\n",
    "rho_star = 7E8*cosmo['h']**2\n",
    "rho_m = cosmo['Omega_m']*ccl.physical_constants.RHO_CRITICAL*cosmo['h']**2\n",
    "rho_DM = cosmo['Omega_c']*ccl.physical_constants.RHO_CRITICAL*cosmo['h']**2\n",
    "rho_g = rho_m - rho_star - rho_DM"
   ]
  },
  {
   "cell_type": "markdown",
   "id": "f656c54e",
   "metadata": {
    "id": "f656c54e"
   },
   "source": [
    "We are now going to define some useful constants that we will need later."
   ]
  },
  {
   "cell_type": "code",
   "execution_count": 5,
   "id": "96221cf1",
   "metadata": {
    "id": "96221cf1"
   },
   "outputs": [],
   "source": [
    "#For the stellar mass fraction within halos\n",
    "m_0s = 5E12/cosmo['h']\n",
    "sigmas = 1.2\n",
    "\n",
    "#For the stellar profile\n",
    "x_deltas = 1/0.03\n",
    "\n",
    "#For the gas mass fraction within halos\n",
    "m_0g = 1E12/cosmo['h']\n",
    "sigmag = 3\n",
    "\n",
    "#For the gas profile\n",
    "beta = 2.9\n",
    "\n",
    "#Parameters that inform the power spectrum of the gas,\n",
    "#specifically the extended component.\n",
    "Fg = 0.05 #this is an example, it should be <<1\n",
    "bd = 0.85 #from Fedeli\n",
    "\n",
    "# A reference halo mass that will be used later\n",
    "mhalo = 1E14/cosmo['h']"
   ]
  },
  {
   "cell_type": "markdown",
   "id": "9d98aa76",
   "metadata": {
    "id": "9d98aa76"
   },
   "source": [
    "To compute halo model ingredients of the power spectrum, we will need to integrate over the masses of the contributing halos. These will be slightly different for stars, DM and gas. Here we define them:"
   ]
  },
  {
   "cell_type": "code",
   "execution_count": 6,
   "id": "99448733",
   "metadata": {
    "id": "99448733"
   },
   "outputs": [],
   "source": [
    "# Array of masses\n",
    "mmin_DM=1E6\n",
    "mmax_DM=1E16\n",
    "mmin_gas=m_0g\n",
    "mmax_gas=mmax_DM\n",
    "mmin_stars=1E10\n",
    "mmax_stars=1E15\n",
    "m_arr = np.geomspace(mmin_DM,mmax_DM,128)"
   ]
  },
  {
   "cell_type": "markdown",
   "id": "b4e33a75",
   "metadata": {
    "id": "b4e33a75"
   },
   "source": [
    "## Stellar component\n",
    "\n",
    "First we will compute the stellar mass fraction.\n",
    "\n",
    "$f_*(m)=A\\exp(-\\frac{\\log_{10}^2(m/m_{0s})}{2\\sigma_s^2})$\n",
    "\n",
    "We fix $A$ by requiring that $\\bar{\\rho}_*$ have a particular value.\n",
    "\n",
    "$\\bar{\\rho}_*=\\int_0^∞dmmf_*(m)n(m)$\n",
    "\n",
    "where $n(m)$ is the halo mass function."
   ]
  },
  {
   "cell_type": "code",
   "execution_count": 7,
   "id": "97852bde",
   "metadata": {
    "id": "97852bde",
    "outputId": "7e277025-83cc-4893-8ddc-13a10a93a402"
   },
   "outputs": [
    {
     "data": {
      "image/png": "[encoded data removed]",
      "text/plain": [
       "<Figure size 640x480 with 1 Axes>"
      ]
     },
     "metadata": {},
     "output_type": "display_data"
    }
   ],
   "source": [
    "#This computes the normalization of the stellar mass fraction\n",
    "def f_star_integrand(m):\n",
    "    mf = hmf_200m(cosmo,m,a_sf)/(m*np.log(10))\n",
    "    return m*np.exp(-(np.log10(m/m_0s))**2/(2*sigmas**2))*mf\n",
    "def f_star_norm():\n",
    "    return integrate.quad(f_star_integrand,mmin_stars,mmax_stars,epsabs=0,epsrel=1E-3,limit=5000)[0]\n",
    "\n",
    "#Stellar mass fraction\n",
    "A = rho_star/f_star_norm()\n",
    "def f_star(m):\n",
    "    return A*np.exp(-(np.log10(m/m_0s))**2/(2*sigmas**2))\n",
    "\n",
    "plt.figure()\n",
    "plt.plot(m_arr*cosmo['h'], f_star(m_arr), 'b-')\n",
    "plt.xlabel(r'$M [M_\\odot/h]$',fontsize=22)\n",
    "plt.ylabel(r'$f_\\star(M)$',fontsize=22)\n",
    "plt.xscale('log')\n",
    "plt.yscale('log')\n",
    "plt.show()"
   ]
  },
  {
   "cell_type": "markdown",
   "id": "f6e82060",
   "metadata": {
    "id": "f6e82060"
   },
   "source": [
    "Next, we define the shape of the stellar profiles and we make a class out of them, so we can then pass them on to the power spectrum method. \n",
    "\n",
    "$\\rho_*(x|m)=\\frac{\\rho_t}{x}\\exp(-x^\\alpha)$, with $x:=r/r_t$.\n",
    "\n",
    "An additional constraint on $\\rho_t$ comes from requiring that the mass fraction overall is equal to the mass fraction within a halo."
   ]
  },
  {
   "cell_type": "code",
   "execution_count": 8,
   "id": "9ed2a961",
   "metadata": {
    "id": "9ed2a961"
   },
   "outputs": [],
   "source": [
    "#Stellar profile\n",
    "class HaloProfileStars(ccl.halos.HaloProfile):\n",
    "    def __init__(self, mass_def):\n",
    "        super(HaloProfileStars, self).__init__(mass_def=mass_def)\n",
    "\n",
    "    def _rs(self, cosmo, M, a):\n",
    "        return self.mass_def.get_radius(cosmo, M, a) / a\n",
    "\n",
    "    def _real(self, cosmo, r, M, a):\n",
    "        # Generate 2D array by default\n",
    "        r_use = np.atleast_1d(r)\n",
    "        M_use = np.atleast_1d(M)\n",
    "\n",
    "        # Compute profile\n",
    "        r_delta = self._rs(cosmo, M_use, a)\n",
    "        r_t = r_delta/x_deltas\n",
    "        x = r_use/r_t[:, None]\n",
    "        rhot = M_use*f_star(M_use)/(4* np.pi * r_t**3)\n",
    "        prof = rhot[:,None] * np.exp(-x)/x   \n",
    "\n",
    "        # Make sure the output has the right shape\n",
    "        if np.ndim(r) == 0:\n",
    "            prof = np.squeeze(prof, axis=-1)\n",
    "        if np.ndim(M) == 0:\n",
    "            prof = np.squeeze(prof, axis=0)\n",
    "        return prof\n",
    "\n",
    "ps = HaloProfileStars(mass_def=hmd_200m)\n",
    "ps.update_precision_fftlog(padding_hi_fftlog=1E3,\n",
    "                           padding_lo_fftlog=1E-3,\n",
    "                           n_per_decade=1000,\n",
    "                           plaw_fourier=-2.)"
   ]
  },
  {
   "cell_type": "markdown",
   "id": "784b33f2",
   "metadata": {
    "id": "784b33f2"
   },
   "source": [
    "## Gas component\n",
    "\n",
    "We now turn to the gas, again defining the gas fraction in each halo approximately as:\n",
    "\n",
    "$f_g(m)=\\frac{\\Omega_b}{\\Omega_m}\\text{erf}\\left[\\frac{\\log_{10}(m/m_{0g})}{\\sigma_g}\\right]$"
   ]
  },
  {
   "cell_type": "code",
   "execution_count": 9,
   "id": "a262706c",
   "metadata": {
    "id": "a262706c",
    "outputId": "d41999d4-bc07-47a1-b31c-37ee9f26057d"
   },
   "outputs": [
    {
     "data": {
      "image/png": "[encoded data removed]",
      "text/plain": [
       "<Figure size 640x480 with 1 Axes>"
      ]
     },
     "metadata": {},
     "output_type": "display_data"
    }
   ],
   "source": [
    "def f_gas(m):\n",
    "    fgas = []\n",
    "    for i in m:\n",
    "        if i<m_0g:\n",
    "            fgas.append(0.)\n",
    "        else:\n",
    "            fgas.append((cosmo['Omega_b']/cosmo['Omega_m'])*erf(np.log10(i/m_0g)/sigmag))\n",
    "    return fgas\n",
    "\n",
    "plt.figure()\n",
    "plt.plot(m_arr*cosmo['h'],f_gas(m_arr), 'b-')\n",
    "plt.xscale('log')\n",
    "plt.yscale('log')\n",
    "plt.xlabel(r'$M$ $[$M$_\\odot/h]$',fontsize=22)\n",
    "plt.ylabel(r'$f_{\\rm gas}(M)$',fontsize=22)\n",
    "plt.show()"
   ]
  },
  {
   "cell_type": "markdown",
   "id": "fe2217aa",
   "metadata": {
    "id": "fe2217aa"
   },
   "source": [
    "We now define a class that describes the profiles for the bound gas. Note we use a slightly different gas profile to Fedeli (2014):\n",
    "\n",
    "$\\rho_g(r)=\\frac{\\rho_{g,0}}{(1+u)^\\beta(1+v^2)^{(7-\\beta)/2}}$, with $u:=r/r_{co}$ and $v:=r/r_{ej}$."
   ]
  },
  {
   "cell_type": "code",
   "execution_count": 10,
   "id": "db0fa590",
   "metadata": {
    "id": "db0fa590"
   },
   "outputs": [],
   "source": [
    "class HaloProfileGas(ccl.halos.HaloProfile):\n",
    "    def __init__(self,mass_def):\n",
    "        super(HaloProfileGas, self).__init__(mass_def=mass_def)\n",
    "        \n",
    "    #scale radius\n",
    "    def _rs(self, cosmo, M, a):\n",
    "        return self.mass_def.get_radius(cosmo, M, a) / a \n",
    "\n",
    "    def _rint(self, M, Rd, r):\n",
    "        r_co = 0.1*Rd\n",
    "        r_ej = 4.5*Rd #just placeholder value\n",
    "        return r**2/((1+r/r_co)**beta*(1+(r/r_ej)**2)**((7-beta)/2))\n",
    "\n",
    "    def _norm(self,M,Rd):\n",
    "        nn = f_gas(M)*M/(4*np.pi*np.array([integrate.romberg(partial(self._rint, mm, rd),\n",
    "                                                             1E-3,50,tol=0,rtol=1E-1,divmax=5000)\n",
    "                                           for mm, rd in zip(M, Rd)]))\n",
    "        return nn\n",
    "\n",
    "    def _real(self, cosmo, r, M, a):\n",
    "        # Generate 2D array by default\n",
    "        r_use = np.atleast_1d(r)\n",
    "        M_use = np.atleast_1d(M)\n",
    "\n",
    "        # Compute profile\n",
    "        r_delta = self._rs(cosmo, M_use, a)\n",
    "        r_co = 0.1*r_delta\n",
    "        r_ej = 4.5*r_delta\n",
    "\n",
    "        prof = 1/((1+r_use[None,:]/r_co[:,None])**beta*(1+(r_use[None,:]/r_ej[:,None])**2)**((7-beta)/2))\n",
    "        norm = self._norm(M_use,r_delta)\n",
    "        prof = prof[:,:]*norm[:,None]\n",
    "\n",
    "        # Make sure the output has the right shape\n",
    "        if np.ndim(r) == 0:\n",
    "            prof = np.squeeze(prof, axis=-1)\n",
    "        if np.ndim(M) == 0:\n",
    "            prof = np.squeeze(prof, axis=0)\n",
    "        return prof\n",
    "\n",
    "pg = HaloProfileGas(mass_def=hmd_200m)\n",
    "pg.update_precision_fftlog(padding_hi_fftlog=1E3,padding_lo_fftlog=1E-3,\n",
    "                           n_per_decade=1000,plaw_fourier=-2.)"
   ]
  },
  {
   "cell_type": "markdown",
   "id": "be64b0b2",
   "metadata": {
    "id": "be64b0b2"
   },
   "source": [
    "## Interpolation of profiles\n",
    "\n",
    "It takes a while to evaluate the profiles. For this reason, we are going to interpolate them so we can use them later."
   ]
  },
  {
   "cell_type": "code",
   "execution_count": 12,
   "id": "11b140eb",
   "metadata": {
    "id": "11b140eb",
    "outputId": "89202947-1ef8-423f-edc6-88268325de4d"
   },
   "outputs": [
    {
     "name": "stdout",
     "output_type": "stream",
     "text": [
      "DM profiles interpolated...\n",
      "\n",
      "Gas profiles interpolated...\n",
      "\n",
      "Star profiles interpolated...\n",
      "\n"
     ]
    },
    {
     "name": "stderr",
     "output_type": "stream",
     "text": [
      "/var/folders/bv/fzds98491jb3gycs45ywvr180000gn/T/ipykernel_79262/1558928061.py:13: DeprecationWarning: `interp2d` is deprecated!\n",
      "`interp2d` is deprecated in SciPy 1.10 and will be removed in SciPy 1.12.0.\n",
      "\n",
      "For legacy code, nearly bug-for-bug compatible replacements are\n",
      "`RectBivariateSpline` on regular grids, and `bisplrep`/`bisplev` for\n",
      "scattered 2D data.\n",
      "\n",
      "In new code, for regular grids use `RegularGridInterpolator` instead.\n",
      "For scattered data, prefer `LinearNDInterpolator` or\n",
      "`CloughTocher2DInterpolator`.\n",
      "\n",
      "For more details see\n",
      "`https://gist.github.com/ev-br/8544371b40f414b7eaf3fe6217209bff`\n",
      "\n",
      "  fDM = interpolate.interp2d(M,K,np.transpose(yDM))\n",
      "/var/folders/bv/fzds98491jb3gycs45ywvr180000gn/T/ipykernel_79262/1558928061.py:27: DeprecationWarning: `interp2d` is deprecated!\n",
      "`interp2d` is deprecated in SciPy 1.10 and will be removed in SciPy 1.12.0.\n",
      "\n",
      "For legacy code, nearly bug-for-bug compatible replacements are\n",
      "`RectBivariateSpline` on regular grids, and `bisplrep`/`bisplev` for\n",
      "scattered 2D data.\n",
      "\n",
      "In new code, for regular grids use `RegularGridInterpolator` instead.\n",
      "For scattered data, prefer `LinearNDInterpolator` or\n",
      "`CloughTocher2DInterpolator`.\n",
      "\n",
      "For more details see\n",
      "`https://gist.github.com/ev-br/8544371b40f414b7eaf3fe6217209bff`\n",
      "\n",
      "  f = interpolate.interp2d(M,K,np.transpose(yg))\n",
      "/var/folders/bv/fzds98491jb3gycs45ywvr180000gn/T/ipykernel_79262/1558928061.py:38: DeprecationWarning: `interp2d` is deprecated!\n",
      "`interp2d` is deprecated in SciPy 1.10 and will be removed in SciPy 1.12.0.\n",
      "\n",
      "For legacy code, nearly bug-for-bug compatible replacements are\n",
      "`RectBivariateSpline` on regular grids, and `bisplrep`/`bisplev` for\n",
      "scattered 2D data.\n",
      "\n",
      "In new code, for regular grids use `RegularGridInterpolator` instead.\n",
      "For scattered data, prefer `LinearNDInterpolator` or\n",
      "`CloughTocher2DInterpolator`.\n",
      "\n",
      "For more details see\n",
      "`https://gist.github.com/ev-br/8544371b40f414b7eaf3fe6217209bff`\n",
      "\n",
      "  fs = interpolate.interp2d(M,K,np.transpose(ys))\n"
     ]
    }
   ],
   "source": [
    "#Interpolate the profiles for speed\n",
    "\n",
    "M = np.logspace(np.log10(mmin_DM),np.log10(mmax_DM),num=20)\n",
    "yDM=np.zeros((20,500))\n",
    "M2D = np.zeros((20,500))\n",
    "for i in range(0,500):\n",
    "    M2D[:,i]=M\n",
    "K = np.linspace(1E-2,1E2,num=500)\n",
    "for j in range(0,20):\n",
    "    yDM[j,:]=pM.fourier(cosmo, K,M[j], a_sf)/M[j]\n",
    "\n",
    "fDM = interpolate.interp2d(M,K,np.transpose(yDM))\n",
    "\n",
    "print(\"DM profiles interpolated...\\n\")\n",
    "\n",
    "M = np.logspace(np.log10(mmin_gas),np.log10(mmax_gas),num=10)\n",
    "yg=np.zeros((10,500))\n",
    "M2D = np.zeros((10,500))\n",
    "for i in range(0,500):\n",
    "    M2D[:,i]=M\n",
    "K = np.linspace(1E-2,1E2,num=500)\n",
    "for j in range(0,10):\n",
    "    yg[j,:]=pg.fourier(cosmo, K,M[j], a_sf)/M[j]\n",
    "    \n",
    "f = interpolate.interp2d(M,K,np.transpose(yg))\n",
    "\n",
    "print(\"Gas profiles interpolated...\\n\")\n",
    "\n",
    "M = np.logspace(np.log10(mmin_stars),np.log10(mmax_stars),num=10)\n",
    "M2D = np.zeros((len(M),50))\n",
    "for i in range(0,50):\n",
    "    M2D[:,i]=M\n",
    "K = np.linspace(1E-2,1E2,num=50)\n",
    "ys=ps.fourier(cosmo, K,M, a_sf)/M2D\n",
    "fs = interpolate.interp2d(M,K,np.transpose(ys))\n",
    "\n",
    "print(\"Star profiles interpolated...\\n\")"
   ]
  },
  {
   "cell_type": "markdown",
   "id": "25c52c3f",
   "metadata": {
    "id": "25c52c3f"
   },
   "source": [
    "## Calculation of power spectra"
   ]
  },
  {
   "cell_type": "markdown",
   "id": "dtzNYWciqSVH",
   "metadata": {
    "id": "dtzNYWciqSVH"
   },
   "source": [
    "We define some generic integrals that are needed for the one halo and two halo power spectra of the different components of the model:\n",
    "\n",
    "$I_{2p}=\\int_0^\\infty dm n(m) m^2y_1(k)y_2(k)$\n",
    "\n",
    "$I_{bp}=\\int_0^\\infty dm n(m) b(m) my(k)$"
   ]
  },
  {
   "cell_type": "code",
   "execution_count": 13,
   "id": "19dea2c8",
   "metadata": {
    "id": "19dea2c8"
   },
   "outputs": [],
   "source": [
    "# Halo Mass Calculator (for DM)\n",
    "hmc = ccl.halos.HMCalculator(mass_function=hmf_200m, halo_bias=hbf, mass_def=hmd_200m)\n",
    "\n",
    "# Non-linear matter power spectrum, for comparison\n",
    "pk_nl = ccl.nonlin_matter_power(cosmo, k_arr, a_sf)\n",
    "\n",
    "#Generic integrals we need\n",
    "#(of the form 5.x in Fedeli (2014))\n",
    "def integrandGEN2p(m,k,prof1,prof2):\n",
    "    dndlog10m = hmf_200m(cosmo, m, a_sf)\n",
    "    dndm=dndlog10m/(m*np.log(10.))\n",
    "    y1=prof1(m,k)\n",
    "    y2 =prof2(m,k)\n",
    "    return dndm*m**2*y1*y2\n",
    "def integratedGEN2p(mmin,mmax,k,p1,p2):\n",
    "    return integrate.quad(integrandGEN2p, mmin, mmax, args=(k,p1,p2),epsabs=0,epsrel=1E-3,limit=5000)[0]\n",
    "def integrandGENbp(m,k,prof1):\n",
    "    bm = hbf(cosmo,m,a_sf)\n",
    "    dndlog10m = hmf_200m(cosmo, m, a_sf)\n",
    "    dndm=dndlog10m/(m*np.log(10.))\n",
    "    y=prof1(m,k)\n",
    "    return dndm*m*bm*y\n",
    "def integratedGENbp(mmin,mmax,k,p1):\n",
    "    return integrate.quad(integrandGENbp, mmin, mmax, args=(k,p1),epsabs=0,epsrel=1E-3,limit=5000)[0]"
   ]
  },
  {
   "cell_type": "markdown",
   "id": "4f51d8e0",
   "metadata": {
    "id": "4f51d8e0"
   },
   "source": [
    "We start with the dark matter:"
   ]
  },
  {
   "cell_type": "code",
   "execution_count": 14,
   "id": "3c2da1a2",
   "metadata": {
    "id": "3c2da1a2"
   },
   "outputs": [
    {
     "name": "stderr",
     "output_type": "stream",
     "text": [
      "/var/folders/bv/fzds98491jb3gycs45ywvr180000gn/T/ipykernel_79262/2841325479.py:12: DeprecationWarning:         `interp2d` is deprecated!\n",
      "        `interp2d` is deprecated in SciPy 1.10 and will be removed in SciPy 1.12.0.\n",
      "\n",
      "        For legacy code, nearly bug-for-bug compatible replacements are\n",
      "        `RectBivariateSpline` on regular grids, and `bisplrep`/`bisplev` for\n",
      "        scattered 2D data.\n",
      "\n",
      "        In new code, for regular grids use `RegularGridInterpolator` instead.\n",
      "        For scattered data, prefer `LinearNDInterpolator` or\n",
      "        `CloughTocher2DInterpolator`.\n",
      "\n",
      "        For more details see\n",
      "        `https://gist.github.com/ev-br/8544371b40f414b7eaf3fe6217209bff`\n",
      "\n",
      "  y1=prof1(m,k)\n",
      "/var/folders/bv/fzds98491jb3gycs45ywvr180000gn/T/ipykernel_79262/2841325479.py:13: DeprecationWarning:         `interp2d` is deprecated!\n",
      "        `interp2d` is deprecated in SciPy 1.10 and will be removed in SciPy 1.12.0.\n",
      "\n",
      "        For legacy code, nearly bug-for-bug compatible replacements are\n",
      "        `RectBivariateSpline` on regular grids, and `bisplrep`/`bisplev` for\n",
      "        scattered 2D data.\n",
      "\n",
      "        In new code, for regular grids use `RegularGridInterpolator` instead.\n",
      "        For scattered data, prefer `LinearNDInterpolator` or\n",
      "        `CloughTocher2DInterpolator`.\n",
      "\n",
      "        For more details see\n",
      "        `https://gist.github.com/ev-br/8544371b40f414b7eaf3fe6217209bff`\n",
      "\n",
      "  y2 =prof2(m,k)\n",
      "/var/folders/bv/fzds98491jb3gycs45ywvr180000gn/T/ipykernel_79262/2841325479.py:21: DeprecationWarning:         `interp2d` is deprecated!\n",
      "        `interp2d` is deprecated in SciPy 1.10 and will be removed in SciPy 1.12.0.\n",
      "\n",
      "        For legacy code, nearly bug-for-bug compatible replacements are\n",
      "        `RectBivariateSpline` on regular grids, and `bisplrep`/`bisplev` for\n",
      "        scattered 2D data.\n",
      "\n",
      "        In new code, for regular grids use `RegularGridInterpolator` instead.\n",
      "        For scattered data, prefer `LinearNDInterpolator` or\n",
      "        `CloughTocher2DInterpolator`.\n",
      "\n",
      "        For more details see\n",
      "        `https://gist.github.com/ev-br/8544371b40f414b7eaf3fe6217209bff`\n",
      "\n",
      "  y=prof1(m,k)\n"
     ]
    }
   ],
   "source": [
    "#Dark matter auto-spectra\n",
    "\n",
    "def PDM2h(k):\n",
    "    return ccl.linear_matter_power(cosmo, k, a_sf)/rho_DM**2*integratedGENbp(mmin_DM,mmax_DM,k,fDM)**2\n",
    "\n",
    "def PDM1h(k):\n",
    "    return 1/rho_DM**2*integratedGEN2p(mmin_DM,mmax_DM,k,fDM,fDM)\n",
    "\n",
    "PDM1h_arr=np.zeros(len(k_arr))\n",
    "PDM2h_arr=np.zeros(len(k_arr))\n",
    "for i in range(0,len(k_arr)):\n",
    "    PDM1h_arr[i]=PDM1h(k_arr[i])\n",
    "    PDM2h_arr[i]=PDM2h(k_arr[i])"
   ]
  },
  {
   "cell_type": "markdown",
   "id": "b638986c",
   "metadata": {},
   "source": [
    "Then the gas:"
   ]
  },
  {
   "cell_type": "code",
   "execution_count": 15,
   "id": "017fc784",
   "metadata": {
    "id": "017fc784"
   },
   "outputs": [
    {
     "name": "stderr",
     "output_type": "stream",
     "text": [
      "/var/folders/bv/fzds98491jb3gycs45ywvr180000gn/T/ipykernel_79262/2841325479.py:21: DeprecationWarning:         `interp2d` is deprecated!\n",
      "        `interp2d` is deprecated in SciPy 1.10 and will be removed in SciPy 1.12.0.\n",
      "\n",
      "        For legacy code, nearly bug-for-bug compatible replacements are\n",
      "        `RectBivariateSpline` on regular grids, and `bisplrep`/`bisplev` for\n",
      "        scattered 2D data.\n",
      "\n",
      "        In new code, for regular grids use `RegularGridInterpolator` instead.\n",
      "        For scattered data, prefer `LinearNDInterpolator` or\n",
      "        `CloughTocher2DInterpolator`.\n",
      "\n",
      "        For more details see\n",
      "        `https://gist.github.com/ev-br/8544371b40f414b7eaf3fe6217209bff`\n",
      "\n",
      "  y=prof1(m,k)\n",
      "/var/folders/bv/fzds98491jb3gycs45ywvr180000gn/T/ipykernel_79262/2841325479.py:12: DeprecationWarning:         `interp2d` is deprecated!\n",
      "        `interp2d` is deprecated in SciPy 1.10 and will be removed in SciPy 1.12.0.\n",
      "\n",
      "        For legacy code, nearly bug-for-bug compatible replacements are\n",
      "        `RectBivariateSpline` on regular grids, and `bisplrep`/`bisplev` for\n",
      "        scattered 2D data.\n",
      "\n",
      "        In new code, for regular grids use `RegularGridInterpolator` instead.\n",
      "        For scattered data, prefer `LinearNDInterpolator` or\n",
      "        `CloughTocher2DInterpolator`.\n",
      "\n",
      "        For more details see\n",
      "        `https://gist.github.com/ev-br/8544371b40f414b7eaf3fe6217209bff`\n",
      "\n",
      "  y1=prof1(m,k)\n",
      "/var/folders/bv/fzds98491jb3gycs45ywvr180000gn/T/ipykernel_79262/2841325479.py:13: DeprecationWarning:         `interp2d` is deprecated!\n",
      "        `interp2d` is deprecated in SciPy 1.10 and will be removed in SciPy 1.12.0.\n",
      "\n",
      "        For legacy code, nearly bug-for-bug compatible replacements are\n",
      "        `RectBivariateSpline` on regular grids, and `bisplrep`/`bisplev` for\n",
      "        scattered 2D data.\n",
      "\n",
      "        In new code, for regular grids use `RegularGridInterpolator` instead.\n",
      "        For scattered data, prefer `LinearNDInterpolator` or\n",
      "        `CloughTocher2DInterpolator`.\n",
      "\n",
      "        For more details see\n",
      "        `https://gist.github.com/ev-br/8544371b40f414b7eaf3fe6217209bff`\n",
      "\n",
      "  y2 =prof2(m,k)\n"
     ]
    }
   ],
   "source": [
    "#Gas auto-spectra\n",
    "\n",
    "def PG2h(k):\n",
    "    return ccl.linear_matter_power(cosmo, k, a_sf)/(Fg*rho_g)**2*integratedGENbp(mmin_gas,mmax_gas,k,f)**2\n",
    "\n",
    "def PG1h(k):\n",
    "    return 1/(Fg*rho_g)**2*integratedGEN2p(mmin_gas,mmax_gas,k,f,f)\n",
    "\n",
    "def PGd(k):\n",
    "    return bd**2*ccl.linear_matter_power(cosmo, k, a_sf)\n",
    "\n",
    "def PGdh(k):\n",
    "    return bd*ccl.linear_matter_power(cosmo, k, a_sf)/(Fg*rho_g)*integratedGENbp(mmin_gas,mmax_gas,k,f)\n",
    "\n",
    "PG2h_arr=np.zeros(len(k_arr))\n",
    "PG1h_arr=np.zeros(len(k_arr))\n",
    "PGd_arr=np.zeros(len(k_arr))\n",
    "PGdh_arr=np.zeros(len(k_arr))\n",
    "for i in range(0,len(k_arr)):\n",
    "    PG2h_arr[i]=PG2h(k_arr[i])\n",
    "    PGd_arr[i]=PGd(k_arr[i])\n",
    "    PG1h_arr[i]=PG1h(k_arr[i])\n",
    "    PGdh_arr[i]=PGdh(k_arr[i])\n",
    "\n",
    "PG = Fg**2*(PG2h_arr + PG1h_arr) + (1-Fg)**2*PGd_arr + 2*Fg*(1-Fg)*PGdh_arr"
   ]
  },
  {
   "cell_type": "markdown",
   "id": "19bbef79",
   "metadata": {},
   "source": [
    "And their cross-correlation:"
   ]
  },
  {
   "cell_type": "code",
   "execution_count": 16,
   "id": "1zoF589IU5-Q",
   "metadata": {
    "id": "1zoF589IU5-Q"
   },
   "outputs": [
    {
     "name": "stderr",
     "output_type": "stream",
     "text": [
      "/var/folders/bv/fzds98491jb3gycs45ywvr180000gn/T/ipykernel_79262/2841325479.py:21: DeprecationWarning:         `interp2d` is deprecated!\n",
      "        `interp2d` is deprecated in SciPy 1.10 and will be removed in SciPy 1.12.0.\n",
      "\n",
      "        For legacy code, nearly bug-for-bug compatible replacements are\n",
      "        `RectBivariateSpline` on regular grids, and `bisplrep`/`bisplev` for\n",
      "        scattered 2D data.\n",
      "\n",
      "        In new code, for regular grids use `RegularGridInterpolator` instead.\n",
      "        For scattered data, prefer `LinearNDInterpolator` or\n",
      "        `CloughTocher2DInterpolator`.\n",
      "\n",
      "        For more details see\n",
      "        `https://gist.github.com/ev-br/8544371b40f414b7eaf3fe6217209bff`\n",
      "\n",
      "  y=prof1(m,k)\n",
      "/var/folders/bv/fzds98491jb3gycs45ywvr180000gn/T/ipykernel_79262/2841325479.py:12: DeprecationWarning:         `interp2d` is deprecated!\n",
      "        `interp2d` is deprecated in SciPy 1.10 and will be removed in SciPy 1.12.0.\n",
      "\n",
      "        For legacy code, nearly bug-for-bug compatible replacements are\n",
      "        `RectBivariateSpline` on regular grids, and `bisplrep`/`bisplev` for\n",
      "        scattered 2D data.\n",
      "\n",
      "        In new code, for regular grids use `RegularGridInterpolator` instead.\n",
      "        For scattered data, prefer `LinearNDInterpolator` or\n",
      "        `CloughTocher2DInterpolator`.\n",
      "\n",
      "        For more details see\n",
      "        `https://gist.github.com/ev-br/8544371b40f414b7eaf3fe6217209bff`\n",
      "\n",
      "  y1=prof1(m,k)\n",
      "/var/folders/bv/fzds98491jb3gycs45ywvr180000gn/T/ipykernel_79262/2841325479.py:13: DeprecationWarning:         `interp2d` is deprecated!\n",
      "        `interp2d` is deprecated in SciPy 1.10 and will be removed in SciPy 1.12.0.\n",
      "\n",
      "        For legacy code, nearly bug-for-bug compatible replacements are\n",
      "        `RectBivariateSpline` on regular grids, and `bisplrep`/`bisplev` for\n",
      "        scattered 2D data.\n",
      "\n",
      "        In new code, for regular grids use `RegularGridInterpolator` instead.\n",
      "        For scattered data, prefer `LinearNDInterpolator` or\n",
      "        `CloughTocher2DInterpolator`.\n",
      "\n",
      "        For more details see\n",
      "        `https://gist.github.com/ev-br/8544371b40f414b7eaf3fe6217209bff`\n",
      "\n",
      "  y2 =prof2(m,k)\n"
     ]
    }
   ],
   "source": [
    "#DM x gas\n",
    "\n",
    "def PDMgdh(k):\n",
    "    return (bd*ccl.linear_matter_power(cosmo, k, a_sf)/rho_DM)*integratedGENbp(mmin_DM,mmax_DM,k,fDM)\n",
    "def PDMg1h(k):\n",
    "    return 1/(rho_DM*Fg*rho_g)*integratedGEN2p(mmin_gas,mmax_gas,k,f,fDM)\n",
    "def PDMg2h(k):\n",
    "    return ccl.linear_matter_power(cosmo, k, a_sf)/(rho_DM*Fg*rho_g)*integratedGENbp(mmin_DM,mmax_DM,k,fDM)*integratedGENbp(mmin_gas,mmax_gas,k,f)\n",
    "\n",
    "PDMgdh_arr=np.zeros(len(k_arr))\n",
    "PDMg2h_arr=np.zeros(len(k_arr))\n",
    "PDMg1h_arr=np.zeros(len(k_arr))\n",
    "for i in range(0,len(k_arr)):\n",
    "    PDMgdh_arr[i]=PDMgdh(k_arr[i])\n",
    "    PDMg1h_arr[i]=PDMg1h(k_arr[i])\n",
    "    PDMg2h_arr[i]=PDMg2h(k_arr[i])\n",
    "\n",
    "PDMg = (1-Fg)*PDMgdh_arr + Fg*(PDMg1h_arr+PDMg2h_arr)"
   ]
  },
  {
   "cell_type": "markdown",
   "id": "aa0aae9b",
   "metadata": {
    "id": "aa0aae9b"
   },
   "source": [
    "We will now compute all spectra that involve a stellar contribution:"
   ]
  },
  {
   "cell_type": "code",
   "execution_count": 17,
   "id": "8c23c8e9",
   "metadata": {
    "id": "8c23c8e9"
   },
   "outputs": [
    {
     "name": "stderr",
     "output_type": "stream",
     "text": [
      "/var/folders/bv/fzds98491jb3gycs45ywvr180000gn/T/ipykernel_79262/2841325479.py:21: DeprecationWarning:         `interp2d` is deprecated!\n",
      "        `interp2d` is deprecated in SciPy 1.10 and will be removed in SciPy 1.12.0.\n",
      "\n",
      "        For legacy code, nearly bug-for-bug compatible replacements are\n",
      "        `RectBivariateSpline` on regular grids, and `bisplrep`/`bisplev` for\n",
      "        scattered 2D data.\n",
      "\n",
      "        In new code, for regular grids use `RegularGridInterpolator` instead.\n",
      "        For scattered data, prefer `LinearNDInterpolator` or\n",
      "        `CloughTocher2DInterpolator`.\n",
      "\n",
      "        For more details see\n",
      "        `https://gist.github.com/ev-br/8544371b40f414b7eaf3fe6217209bff`\n",
      "\n",
      "  y=prof1(m,k)\n",
      "/var/folders/bv/fzds98491jb3gycs45ywvr180000gn/T/ipykernel_79262/2841325479.py:12: DeprecationWarning:         `interp2d` is deprecated!\n",
      "        `interp2d` is deprecated in SciPy 1.10 and will be removed in SciPy 1.12.0.\n",
      "\n",
      "        For legacy code, nearly bug-for-bug compatible replacements are\n",
      "        `RectBivariateSpline` on regular grids, and `bisplrep`/`bisplev` for\n",
      "        scattered 2D data.\n",
      "\n",
      "        In new code, for regular grids use `RegularGridInterpolator` instead.\n",
      "        For scattered data, prefer `LinearNDInterpolator` or\n",
      "        `CloughTocher2DInterpolator`.\n",
      "\n",
      "        For more details see\n",
      "        `https://gist.github.com/ev-br/8544371b40f414b7eaf3fe6217209bff`\n",
      "\n",
      "  y1=prof1(m,k)\n",
      "/var/folders/bv/fzds98491jb3gycs45ywvr180000gn/T/ipykernel_79262/2841325479.py:13: DeprecationWarning:         `interp2d` is deprecated!\n",
      "        `interp2d` is deprecated in SciPy 1.10 and will be removed in SciPy 1.12.0.\n",
      "\n",
      "        For legacy code, nearly bug-for-bug compatible replacements are\n",
      "        `RectBivariateSpline` on regular grids, and `bisplrep`/`bisplev` for\n",
      "        scattered 2D data.\n",
      "\n",
      "        In new code, for regular grids use `RegularGridInterpolator` instead.\n",
      "        For scattered data, prefer `LinearNDInterpolator` or\n",
      "        `CloughTocher2DInterpolator`.\n",
      "\n",
      "        For more details see\n",
      "        `https://gist.github.com/ev-br/8544371b40f414b7eaf3fe6217209bff`\n",
      "\n",
      "  y2 =prof2(m,k)\n"
     ]
    }
   ],
   "source": [
    "#Stars auto spectrum\n",
    "def PS2h(k):\n",
    "    return ccl.linear_matter_power(cosmo, k, a_sf)/rho_star**2*integratedGENbp(mmin_stars,mmax_stars,k,fs)**2\n",
    "\n",
    "def PS1h(k):\n",
    "    return 1/rho_star**2*integratedGEN2p(mmin_stars,mmax_stars,k,fs,fs)\n",
    "\n",
    "PS2h_arr=np.zeros(len(k_arr))\n",
    "PS1h_arr=np.zeros(len(k_arr))\n",
    "for i in range(0,len(k_arr)):\n",
    "    PS2h_arr[i]=PS2h(k_arr[i])\n",
    "    PS1h_arr[i]=PS1h(k_arr[i])"
   ]
  },
  {
   "cell_type": "code",
   "execution_count": 18,
   "id": "tDGFw9lUVDw-",
   "metadata": {
    "id": "tDGFw9lUVDw-"
   },
   "outputs": [
    {
     "name": "stderr",
     "output_type": "stream",
     "text": [
      "/var/folders/bv/fzds98491jb3gycs45ywvr180000gn/T/ipykernel_79262/2841325479.py:12: DeprecationWarning:         `interp2d` is deprecated!\n",
      "        `interp2d` is deprecated in SciPy 1.10 and will be removed in SciPy 1.12.0.\n",
      "\n",
      "        For legacy code, nearly bug-for-bug compatible replacements are\n",
      "        `RectBivariateSpline` on regular grids, and `bisplrep`/`bisplev` for\n",
      "        scattered 2D data.\n",
      "\n",
      "        In new code, for regular grids use `RegularGridInterpolator` instead.\n",
      "        For scattered data, prefer `LinearNDInterpolator` or\n",
      "        `CloughTocher2DInterpolator`.\n",
      "\n",
      "        For more details see\n",
      "        `https://gist.github.com/ev-br/8544371b40f414b7eaf3fe6217209bff`\n",
      "\n",
      "  y1=prof1(m,k)\n",
      "/var/folders/bv/fzds98491jb3gycs45ywvr180000gn/T/ipykernel_79262/2841325479.py:13: DeprecationWarning:         `interp2d` is deprecated!\n",
      "        `interp2d` is deprecated in SciPy 1.10 and will be removed in SciPy 1.12.0.\n",
      "\n",
      "        For legacy code, nearly bug-for-bug compatible replacements are\n",
      "        `RectBivariateSpline` on regular grids, and `bisplrep`/`bisplev` for\n",
      "        scattered 2D data.\n",
      "\n",
      "        In new code, for regular grids use `RegularGridInterpolator` instead.\n",
      "        For scattered data, prefer `LinearNDInterpolator` or\n",
      "        `CloughTocher2DInterpolator`.\n",
      "\n",
      "        For more details see\n",
      "        `https://gist.github.com/ev-br/8544371b40f414b7eaf3fe6217209bff`\n",
      "\n",
      "  y2 =prof2(m,k)\n",
      "/var/folders/bv/fzds98491jb3gycs45ywvr180000gn/T/ipykernel_79262/2841325479.py:21: DeprecationWarning:         `interp2d` is deprecated!\n",
      "        `interp2d` is deprecated in SciPy 1.10 and will be removed in SciPy 1.12.0.\n",
      "\n",
      "        For legacy code, nearly bug-for-bug compatible replacements are\n",
      "        `RectBivariateSpline` on regular grids, and `bisplrep`/`bisplev` for\n",
      "        scattered 2D data.\n",
      "\n",
      "        In new code, for regular grids use `RegularGridInterpolator` instead.\n",
      "        For scattered data, prefer `LinearNDInterpolator` or\n",
      "        `CloughTocher2DInterpolator`.\n",
      "\n",
      "        For more details see\n",
      "        `https://gist.github.com/ev-br/8544371b40f414b7eaf3fe6217209bff`\n",
      "\n",
      "  y=prof1(m,k)\n"
     ]
    }
   ],
   "source": [
    "#DM x stars\n",
    "\n",
    "def PDMs1h(k):\n",
    "    return 1/(rho_DM*rho_star)*integratedGEN2p(mmin_stars,mmax_stars,k,fDM,fs)\n",
    "\n",
    "def PDMs2h(k):\n",
    "    ii=integratedGENbp(mmin_stars,mmax_stars,k,fs)*integratedGENbp(mmin_DM,mmax_DM,k,fDM)\n",
    "    return ccl.linear_matter_power(cosmo, k, a_sf)/(rho_DM*rho_star)*ii\n",
    "\n",
    "#Eval and add DM x stars\n",
    "PDMs1h_arr=np.zeros(len(k_arr))\n",
    "PDMs2h_arr=np.zeros(len(k_arr))\n",
    "for i in range(0,len(k_arr)):\n",
    "    PDMs1h_arr[i]=PDMs1h(k_arr[i])\n",
    "    PDMs2h_arr[i]=PDMs2h(k_arr[i])\n",
    "PDMs = PDMs1h_arr+PDMs2h_arr"
   ]
  },
  {
   "cell_type": "code",
   "execution_count": 19,
   "id": "HhDGQgGBVFt5",
   "metadata": {
    "id": "HhDGQgGBVFt5"
   },
   "outputs": [
    {
     "name": "stderr",
     "output_type": "stream",
     "text": [
      "/var/folders/bv/fzds98491jb3gycs45ywvr180000gn/T/ipykernel_79262/2841325479.py:21: DeprecationWarning:         `interp2d` is deprecated!\n",
      "        `interp2d` is deprecated in SciPy 1.10 and will be removed in SciPy 1.12.0.\n",
      "\n",
      "        For legacy code, nearly bug-for-bug compatible replacements are\n",
      "        `RectBivariateSpline` on regular grids, and `bisplrep`/`bisplev` for\n",
      "        scattered 2D data.\n",
      "\n",
      "        In new code, for regular grids use `RegularGridInterpolator` instead.\n",
      "        For scattered data, prefer `LinearNDInterpolator` or\n",
      "        `CloughTocher2DInterpolator`.\n",
      "\n",
      "        For more details see\n",
      "        `https://gist.github.com/ev-br/8544371b40f414b7eaf3fe6217209bff`\n",
      "\n",
      "  y=prof1(m,k)\n",
      "/var/folders/bv/fzds98491jb3gycs45ywvr180000gn/T/ipykernel_79262/2841325479.py:12: DeprecationWarning:         `interp2d` is deprecated!\n",
      "        `interp2d` is deprecated in SciPy 1.10 and will be removed in SciPy 1.12.0.\n",
      "\n",
      "        For legacy code, nearly bug-for-bug compatible replacements are\n",
      "        `RectBivariateSpline` on regular grids, and `bisplrep`/`bisplev` for\n",
      "        scattered 2D data.\n",
      "\n",
      "        In new code, for regular grids use `RegularGridInterpolator` instead.\n",
      "        For scattered data, prefer `LinearNDInterpolator` or\n",
      "        `CloughTocher2DInterpolator`.\n",
      "\n",
      "        For more details see\n",
      "        `https://gist.github.com/ev-br/8544371b40f414b7eaf3fe6217209bff`\n",
      "\n",
      "  y1=prof1(m,k)\n",
      "/var/folders/bv/fzds98491jb3gycs45ywvr180000gn/T/ipykernel_79262/2841325479.py:13: DeprecationWarning:         `interp2d` is deprecated!\n",
      "        `interp2d` is deprecated in SciPy 1.10 and will be removed in SciPy 1.12.0.\n",
      "\n",
      "        For legacy code, nearly bug-for-bug compatible replacements are\n",
      "        `RectBivariateSpline` on regular grids, and `bisplrep`/`bisplev` for\n",
      "        scattered 2D data.\n",
      "\n",
      "        In new code, for regular grids use `RegularGridInterpolator` instead.\n",
      "        For scattered data, prefer `LinearNDInterpolator` or\n",
      "        `CloughTocher2DInterpolator`.\n",
      "\n",
      "        For more details see\n",
      "        `https://gist.github.com/ev-br/8544371b40f414b7eaf3fe6217209bff`\n",
      "\n",
      "  y2 =prof2(m,k)\n"
     ]
    }
   ],
   "source": [
    "#Stars x gas\n",
    "def Psgh(k):\n",
    "    return bd*ccl.linear_matter_power(cosmo, k, a_sf)/rho_star*integratedGENbp(mmin_stars,mmax_stars,k,fs)\n",
    "\n",
    "def Psg1h(k):\n",
    "    return 1/(rho_star*Fg*rho_g)*integratedGEN2p(mmin_gas,mmax_stars,k,f,fs)\n",
    "\n",
    "def Psg2h(k):\n",
    "    ii=integratedGENbp(mmin_stars,mmax_stars,k,fs)*integratedGENbp(mmin_gas,mmax_gas,k,f)\n",
    "    return ccl.linear_matter_power(cosmo, k, a_sf)/(rho_star*Fg*rho_g)*ii\n",
    "\n",
    "#Eval and add star x gas\n",
    "Psgh_arr=np.zeros(len(k_arr))\n",
    "Psg2h_arr=np.zeros(len(k_arr))\n",
    "Psg1h_arr=np.zeros(len(k_arr))\n",
    "for i in range(0,len(k_arr)):\n",
    "    Psgh_arr[i]=Psgh(k_arr[i])\n",
    "    Psg1h_arr[i]=Psg1h(k_arr[i])\n",
    "    Psg2h_arr[i]=Psg2h(k_arr[i])\n",
    "Psg = (1-Fg)*Psgh_arr + Fg*(Psg1h_arr+Psg2h_arr)"
   ]
  },
  {
   "cell_type": "markdown",
   "id": "7b66791f",
   "metadata": {
    "id": "7b66791f"
   },
   "source": [
    "Now plot them all and add them to form the total. We will plot them relative to the standard nonlinear matter power spectrum from CCL, which does not account for baryons."
   ]
  },
  {
   "cell_type": "code",
   "execution_count": 20,
   "id": "ce53505e",
   "metadata": {
    "id": "ce53505e",
    "outputId": "173ca525-8779-490a-f545-fa79b191cfcd"
   },
   "outputs": [
    {
     "data": {
      "image/png": "[encoded data removed]",
      "text/plain": [
       "<Figure size 700x800 with 1 Axes>"
      ]
     },
     "metadata": {},
     "output_type": "display_data"
    }
   ],
   "source": [
    "#Auto-spectra\n",
    "Pauto = (rho_DM/rho_m)**2*(PDM2h_arr+PDM1h_arr)+(rho_g/rho_m)**2*PG+(rho_star/rho_m)**2*(PS1h_arr+PS2h_arr)\n",
    "#Cross-spectra\n",
    "Pcross = (2*rho_DM*rho_star*PDMs +2*rho_g*rho_star*Psg+2*rho_DM*rho_g*PDMg)/(rho_m**2)\n",
    "#Add all\n",
    "Ptotal = Pauto + Pcross\n",
    "\n",
    "#Relative power spectra\n",
    "plt.figure(figsize=(7,8))\n",
    "#All auto correl\n",
    "plt.plot(k_arr/cosmo['h'], (rho_DM/rho_m)**2*(PDM2h_arr+PDM1h_arr)/pk_nl, 'k-', label='$P_{DM}(k)$')\n",
    "plt.plot(k_arr/cosmo['h'], (rho_g/rho_m)**2*PG/pk_nl, 'r-', label='$P_{G}(k)$')\n",
    "plt.plot(k_arr/cosmo['h'], (rho_star/rho_m)**2*(PS2h_arr+PS1h_arr)/pk_nl, 'b-', label='$P_{S}(k)$')\n",
    "#All cross correl\n",
    "plt.plot(k_arr/cosmo['h'], 2*rho_DM*rho_g/(rho_m**2)*PDMg/pk_nl, 'g-', label='$P_{DM,G}(k)$')\n",
    "plt.plot(k_arr/cosmo['h'], 2*rho_g*rho_star/(rho_m**2)*Psg/pk_nl, 'm-', label='$P_{G,S}(k)$')\n",
    "plt.plot(k_arr/cosmo['h'], 2*rho_DM*rho_star/(rho_m**2)*PDMs/pk_nl, 'c-', label='$P_{DM,S}(k)$')\n",
    "#And the total with respect to CAMBs nonlinear power\n",
    "plt.plot(k_arr/cosmo['h'], Ptotal/pk_nl, 'k--', label='$P_{total}(k)$')\n",
    "plt.xscale('log')\n",
    "plt.yscale('log')\n",
    "plt.legend(loc='lower left', fontsize=12.5)\n",
    "plt.ylabel(r'$P(k)/P_{nl}(k)$', fontsize=15)\n",
    "plt.xlabel(r'$k\\,\\,[{\\rm h/Mpc}]$', fontsize=15)\n",
    "plt.show()\n"
   ]
  },
  {
   "cell_type": "code",
   "execution_count": null,
   "id": "8d218fab",
   "metadata": {},
   "outputs": [],
   "source": []
  }
 ],
 "metadata": {
  "colab": {
   "collapsed_sections": [],
   "provenance": []
  },
  "kernelspec": {
   "display_name": "Python [conda env:ccl-dev-v3] *",
   "language": "python",
   "name": "conda-env-ccl-dev-v3-py"
  },
  "language_info": {
   "codemirror_mode": {
    "name": "ipython",
    "version": 3
   },
   "file_extension": ".py",
   "mimetype": "text/x-python",
   "name": "python",
   "nbconvert_exporter": "python",
   "pygments_lexer": "ipython3",
   "version": "3.9.16"
  }
 },
 "nbformat": 4,
 "nbformat_minor": 5
}
