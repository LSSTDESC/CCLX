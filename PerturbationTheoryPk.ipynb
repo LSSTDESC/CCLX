{
 "cells": [
  {
   "cell_type": "markdown",
   "metadata": {},
   "source": [
    "# Nonlinear bias using generalized tracers and power spectra\n",
    "This example showcases how to do nonlinear biasing with the generalized tracers and 2D power spectra implemented in CCL.\n",
    "\n",
    "For more on generalized tracers and power spectra, see GeneralizedTracers.ipynb"
   ]
  },
  {
   "cell_type": "code",
   "execution_count": 1,
   "metadata": {},
   "outputs": [],
   "source": [
    "import numpy as np\n",
    "import pylab as plt\n",
    "import pyccl as ccl\n",
    "import pyccl.nl_pt as pt\n",
    "import pyccl.ccllib as lib\n",
    "%matplotlib inline"
   ]
  },
  {
   "cell_type": "markdown",
   "metadata": {},
   "source": [
    "Note that the perturbation theory functionality lives within `pyccl.nl_pt`."
   ]
  },
  {
   "cell_type": "markdown",
   "metadata": {},
   "source": [
    "## Preliminaries\n",
    "Let's just begin by setting up a cosmology and some biases"
   ]
  },
  {
   "cell_type": "code",
   "execution_count": 2,
   "metadata": {},
   "outputs": [],
   "source": [
    "# Cosmology\n",
    "cosmo = ccl.Cosmology(Omega_c=0.27, Omega_b=0.045, h=0.67, A_s=2.1e-9, n_s=0.96)\n",
    "\n",
    "# Biases for number counts \n",
    "b_1 = 2.0 # constant values for now\n",
    "b_2 = 1.0\n",
    "b_s = 1.0\n",
    "\n",
    "# Biases for IAs. Will be converted to the input c_IA values below.\n",
    "a_1 = 1.\n",
    "a_2 = 0.5\n",
    "a_d = 0.5"
   ]
  },
  {
   "cell_type": "markdown",
   "metadata": {},
   "source": [
    "## PT tracers\n",
    "Power spectra are Fourier-space correlations between two quantities. In CCL the quantities you want to correlate are defined in terms of so-called `PTTracers`. Here we create three of them, one for number counts (galaxy clustering), one for intrinsic alignments and one for matter."
   ]
  },
  {
   "cell_type": "code",
   "execution_count": 3,
   "metadata": {},
   "outputs": [],
   "source": [
    "# Define a redshift range and associated growth factor:\n",
    "z = np.linspace(0,1,128)\n",
    "gz = ccl.growth_factor(cosmo, 1./(1+z))\n",
    "\n",
    "# Let's convert the a_IA values into the correctly normalized c_IA values:\n",
    "Om_m = cosmo['Omega_m']\n",
    "rho_crit = lib.cvar.constants.RHO_CRITICAL\n",
    "rho_m = lib.cvar.constants.RHO_CRITICAL * cosmo['Omega_m']\n",
    "Om_m_fid = 0.3 #or could use DES convention and just remove Om_m/Om_m_fid\n",
    "\n",
    "c_1 = -1*a_1*5e-14*rho_crit*cosmo['Omega_m']/gz\n",
    "c_d = -1*a_d*5e-14*rho_crit*cosmo['Omega_m']/gz\n",
    "c_2 = a_2*5*5e-14*rho_crit*cosmo['Omega_m']**2/(Om_m_fid*gz**2)\n",
    "\n",
    "# Number counts\n",
    "ptt_g = pt.PTNumberCountsTracer(b1=b_1, b2=b_2, bs=b_s)\n",
    "\n",
    "# Intrinsic alignments\n",
    "ptt_i = pt.PTIntrinsicAlignmentTracer(c1=(z,c_1), c2=(z,c_2), cdelta=(z,c_d))\n",
    "ptt_i_nla = pt.PTIntrinsicAlignmentTracer(c1=(z,c_1)) # to compare with the standard WLTracer\n",
    "\n",
    "# Matter\n",
    "ptt_m = pt.PTMatterTracer()\n",
    "\n",
    "# Note that we've assumed constant biases for simplicity, but you can also make them z-dependent:\n",
    "bz = b_1 / gz\n",
    "ptt_g_b = pt.PTNumberCountsTracer(b1=(z, bz))\n"
   ]
  },
  {
   "cell_type": "markdown",
   "metadata": {},
   "source": [
    "## PT calculator\n",
    "Another object, `PTWorkspace` takes care of initializing FastPT (essentially precomputing some of the stuff it needs to get you PT power spectra). You'll need one of these before you can compute P(k)s."
   ]
  },
  {
   "cell_type": "code",
   "execution_count": 4,
   "metadata": {},
   "outputs": [],
   "source": [
    "# The `with_NC` and `with_IA` flags will tell FastPT to initialize the right things.\n",
    "# `log10k_min/max and nk_per_decade will define the sampling in k you should use.\n",
    "ptc = pt.PTCalculator(with_NC=True, with_IA=True,\n",
    "                      log10k_min=-4, log10k_max=2, nk_per_decade=20)"
   ]
  },
  {
   "cell_type": "markdown",
   "metadata": {},
   "source": [
    "## PT power spectra\n",
    "Let's compute some power spectra! We do so by calling `get_pt_pk2d` with whatever tracers you want to cross-correlate. This will return a `Pk2D` object that you can then evaluate at whatever scale and redshift you want."
   ]
  },
  {
   "cell_type": "code",
   "execution_count": 10,
   "metadata": {},
   "outputs": [],
   "source": [
    "# Galaxies x galaxies.\n",
    "# If `tracer2` is missing, an auto-correlation for the first tracer is assumed.\n",
    "pk_gg = pt.get_pt_pk2d(cosmo, ptt_g, ptc=ptc)\n",
    "\n",
    "# Galaxies x matter\n",
    "pk_gm = pt.get_pt_pk2d(cosmo, ptt_g, tracer2=ptt_m, ptc=ptc)\n",
    "\n",
    "# Galaxies x IAs\n",
    "pk_gi = pt.get_pt_pk2d(cosmo, ptt_g, tracer2=ptt_i, ptc=ptc)\n",
    "\n",
    "# IAs x IAs\n",
    "pk_ii, pk_ii_bb = pt.get_pt_pk2d(cosmo, ptt_i, tracer2=ptt_i, ptc=ptc, return_ia_ee_and_bb=True)\n",
    "pk_ii_nla = pt.get_pt_pk2d(cosmo, ptt_i_nla, tracer2=ptt_i_nla, ptc=ptc,)\n",
    "\n",
    "# IAs x matter\n",
    "pk_im = pt.get_pt_pk2d(cosmo, ptt_i, tracer2=ptt_m, ptc=ptc)\n",
    "\n",
    "# Matter x matter\n",
    "pk_mm = pt.get_pt_pk2d(cosmo, ptt_m, tracer2=ptt_m, ptc=ptc)\n"
   ]
  },
  {
   "cell_type": "markdown",
   "metadata": {},
   "source": [
    "**Note the warning above!** FAST-PT is not yet able to compute IAs x galaxies in a consistent way. What CCL does is to use the full non-linear model for IAs, but use a linear bias for galaxies."
   ]
  },
  {
   "cell_type": "markdown",
   "metadata": {},
   "source": [
    "OK, let's now plot a few of these!"
   ]
  },
  {
   "cell_type": "code",
   "execution_count": 6,
   "metadata": {},
   "outputs": [
    {
     "data": {
      "image/png": "[encoded data removed]",
      "text/plain": [
       "<Figure size 432x288 with 1 Axes>"
      ]
     },
     "metadata": {},
     "output_type": "display_data"
    }
   ],
   "source": [
    "# Let's plot everything at z=0\n",
    "\n",
    "ks = np.logspace(-3,2,512)\n",
    "ps = {}\n",
    "ps['gg'] = pk_gg.eval(ks, 1., cosmo)\n",
    "ps['gi'] = pk_gi.eval(ks, 1., cosmo)\n",
    "ps['gm'] = pk_gm.eval(ks, 1., cosmo)\n",
    "ps['ii'] = pk_ii.eval(ks, 1., cosmo)\n",
    "ps['im'] = pk_im.eval(ks, 1., cosmo)\n",
    "ps['mm'] = pk_mm.eval(ks, 1., cosmo)\n",
    "\n",
    "plt.figure()\n",
    "for pn, p in ps.items():\n",
    "    plt.plot(ks, p, label=pn)\n",
    "plt.loglog()\n",
    "plt.legend(loc='lower left', ncol=2, fontsize=13)\n",
    "plt.ylim([1E0, 5E5])\n",
    "plt.xlabel(r'$k\\,\\,[{\\rm Mpc}^{-1}]$', fontsize=15)\n",
    "plt.ylabel(r'$P(k)\\,\\,[{\\rm Mpc}^{3}]$', fontsize=15)\n",
    "plt.show()"
   ]
  },
  {
   "cell_type": "markdown",
   "metadata": {},
   "source": [
    "## Angular power spectra\n",
    "We can now use these P(k)s to compute angular power spectra, passing them to `ccl.angular_cl`.\n",
    "Let's illustrate this specifically for the usual 3x2pt. We will define three standard tracers (not `PTTracer`s, but the ones used to compute angular power spectra), one for number counts, one for weak lensing shear, and one for intrinsic alignments, which is also a WeakLensingTracer. The first one will be associated with `PTNumberCountsTracer`, the second with `PTMatterTracer`, and the third with `PTIntrinsicAlignmentTracer`."
   ]
  },
  {
   "cell_type": "code",
   "execution_count": 7,
   "metadata": {},
   "outputs": [],
   "source": [
    "z = np.linspace(0, 1.5, 1024)\n",
    "nz = np.exp(-((z-0.7)/0.1)**2)\n",
    "\n",
    "# Number counts\n",
    "# We give this one a bias of 1, since we've taken care of galaxy bias at the P(k) level.\n",
    "t_g = ccl.NumberCountsTracer(cosmo, False, dndz=(z, nz), bias=(z, np.ones_like(z)))\n",
    "\n",
    "# Lensing\n",
    "t_l = ccl.WeakLensingTracer(cosmo, dndz=(z, nz))\n",
    "\n",
    "# Intrinsic alignments\n",
    "# Note the required settings to isolate the IA term and set the IA bias to 1,\n",
    "# since we have added the IA bias terms at the P(k) level.\n",
    "t_i = ccl.WeakLensingTracer(cosmo, dndz=(z, nz), has_shear=False, ia_bias=(z, np.ones_like(z)), use_a_ia=False)\n"
   ]
  },
  {
   "cell_type": "markdown",
   "metadata": {},
   "source": [
    "Now compute power spectra. Note how we pass the P(k)s we just calculated as `p_of_k_a`."
   ]
  },
  {
   "cell_type": "code",
   "execution_count": 8,
   "metadata": {},
   "outputs": [],
   "source": [
    "ell = np.unique(np.geomspace(2,1000,100).astype(int)).astype(float)\n",
    "cls={}\n",
    "cls['gg'] = ccl.angular_cl(cosmo, t_g, t_g, ell, p_of_k_a=pk_gg)\n",
    "cls['gG'] = ccl.angular_cl(cosmo, t_g, t_l, ell, p_of_k_a=pk_gm)\n",
    "cls['GG'] = ccl.angular_cl(cosmo, t_l, t_l, ell, p_of_k_a=pk_mm)"
   ]
  },
  {
   "cell_type": "markdown",
   "metadata": {},
   "source": [
    "Plot away!"
   ]
  },
  {
   "cell_type": "code",
   "execution_count": 9,
   "metadata": {},
   "outputs": [
    {
     "data": {
      "image/png": "[encoded data removed]",
      "text/plain": [
       "<Figure size 432x288 with 1 Axes>"
      ]
     },
     "metadata": {},
     "output_type": "display_data"
    }
   ],
   "source": [
    "plt.figure()\n",
    "for cn, c in cls.items():\n",
    "    plt.plot(ell, c, label=cn)\n",
    "plt.loglog()\n",
    "plt.legend(loc='lower left', ncol=1, fontsize=13)\n",
    "plt.xlabel(r'$\\ell$', fontsize=15)\n",
    "plt.ylabel(r'$C_\\ell$', fontsize=15)\n",
    "plt.show()\n"
   ]
  },
  {
   "cell_type": "code",
   "execution_count": null,
   "metadata": {},
   "outputs": [],
   "source": []
  }
 ],
 "metadata": {
  "kernelspec": {
   "display_name": "Python [default]",
   "language": "python",
   "name": "python3"
  },
  "language_info": {
   "codemirror_mode": {
    "name": "ipython",
    "version": 3
   },
   "file_extension": ".py",
   "mimetype": "text/x-python",
   "name": "python",
   "nbconvert_exporter": "python",
   "pygments_lexer": "ipython3",
   "version": "3.6.7"
  }
 },
 "nbformat": 4,
 "nbformat_minor": 2
}
