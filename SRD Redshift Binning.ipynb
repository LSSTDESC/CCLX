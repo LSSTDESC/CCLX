{
 "cells": [
  {
   "cell_type": "markdown",
   "id": "a00f4dea",
   "metadata": {},
   "source": [
    "# SRD Tomographic Binning"
   ]
  },
  {
   "cell_type": "code",
   "execution_count": 1,
   "id": "17db5f74",
   "metadata": {},
   "outputs": [],
   "source": [
    "#  Niko Sarcevic\n",
    "#  nikolina.sarcevic@gmail.com\n",
    "#  github.com/nikosarcevic"
   ]
  },
  {
   "cell_type": "markdown",
   "id": "5f343bd1",
   "metadata": {},
   "source": [
    "Use this notebook to perform the tomographic binning of the SRD lens and source galaxy samples. "
   ]
  },
  {
   "cell_type": "code",
   "execution_count": null,
   "id": "080345b2",
   "metadata": {},
   "outputs": [],
   "source": [
    "import matplotlib.pyplot as plt\n",
    "import numpy as np\n",
    "import srd_redshift_distributions\n",
    "import binning"
   ]
  },
  {
   "cell_type": "markdown",
   "id": "89620045",
   "metadata": {},
   "source": [
    "## Generate the redshfit interval and the redshfit distribution(s)"
   ]
  },
  {
   "cell_type": "markdown",
   "id": "3d59b463",
   "metadata": {},
   "source": [
    "Define the redshfit interval and forecast year:"
   ]
  },
  {
   "cell_type": "code",
   "execution_count": null,
   "id": "f9272ab9",
   "metadata": {},
   "outputs": [],
   "source": [
    "redshift_range = np.linspace(0.01, 4., 400)  # this is the LSST default redshift range\n",
    "forecast_year = \"10\"  # change year to \"1\" if you wish SRD year 1 binning"
   ]
  },
  {
   "cell_type": "markdown",
   "id": "41fadd32",
   "metadata": {},
   "source": [
    "Initialise the SRD redshift distributions for lenses and sources"
   ]
  },
  {
   "cell_type": "code",
   "execution_count": null,
   "id": "092a909c",
   "metadata": {},
   "outputs": [],
   "source": [
    "srd_lens = srd_redshift_distributions.SRD(galaxy_sample=\"lens_sample\", \n",
    "                                          forecast_year=forecast_year)\n",
    "srd_source = srd_redshift_distributions.SRD(galaxy_sample=\"source_sample\", \n",
    "                                            forecast_year=forecast_year)"
   ]
  },
  {
   "cell_type": "markdown",
   "id": "41024a22",
   "metadata": {},
   "source": [
    "Generate the SRD lens and source sample redshift distributions"
   ]
  },
  {
   "cell_type": "code",
   "execution_count": null,
   "id": "03e4a53f",
   "metadata": {},
   "outputs": [],
   "source": [
    "dndz_lens = srd_lens.get_redshift_distribution(redshift_range,\n",
    "                                               normalised=True,\n",
    "                                               save_file=False)\n",
    "\n",
    "dndz_source = srd_source.get_redshift_distribution(redshift_range,\n",
    "                                                   normalised=True,\n",
    "                                                   save_file=False)"
   ]
  },
  {
   "cell_type": "markdown",
   "id": "54ba7347",
   "metadata": {},
   "source": [
    "## Perform the binning procedure"
   ]
  },
  {
   "cell_type": "code",
   "execution_count": null,
   "id": "2bd6e68a",
   "metadata": {},
   "outputs": [],
   "source": [
    "source_bins = binning.Binning(redshift_range, \n",
    "                              dndz_source,\n",
    "                              forecast_year).source_bins(normalised=True,\n",
    "                                                         save_file=True)\n",
    "\n",
    "lens_bins = binning.Binning(redshift_range, \n",
    "                            dndz_lens,\n",
    "                            forecast_year).lens_bins(normalised=True,\n",
    "                                                     save_file=True)"
   ]
  },
  {
   "cell_type": "markdown",
   "id": "e7fa069e",
   "metadata": {},
   "source": [
    "## Plot"
   ]
  },
  {
   "cell_type": "markdown",
   "id": "2dfff7b7",
   "metadata": {},
   "source": [
    "Plot the results to inspect visually."
   ]
  },
  {
   "cell_type": "markdown",
   "id": "d5ee4f86",
   "metadata": {},
   "source": [
    "### Lens sample bins"
   ]
  },
  {
   "cell_type": "code",
   "execution_count": null,
   "id": "f047c8ad",
   "metadata": {},
   "outputs": [],
   "source": [
    "fig = plt.figure(figsize=(7,5))\n",
    "plt.rcParams['lines.linewidth'] = 2.5\n",
    "dutchblue = \"#4A638d\"\n",
    "dutchorange = \"#FF9B00\"\n",
    "\n",
    "for i in lens_bins.keys():\n",
    "     plt.plot(redshift_range, \n",
    "              lens_bins[i], \n",
    "              color=dutchblue)\n",
    "        \n",
    "plt.xlabel(\"redshift\", fontsize=15)\n",
    "plt.ylabel(\"redshift distribution\", fontsize=15)\n",
    "plt.xlim(0.01, 1.5)\n",
    "plt.title(f\"SRD Y{forecast_year} Lens Redshift Bins\", fontsize=20)\n",
    "plt.savefig(f\"SRD_lens_bins_year{forecast_year}.pdf\")"
   ]
  },
  {
   "cell_type": "markdown",
   "id": "1004583e",
   "metadata": {},
   "source": [
    "### Source sample bins"
   ]
  },
  {
   "cell_type": "code",
   "execution_count": null,
   "id": "21b907c8",
   "metadata": {},
   "outputs": [],
   "source": [
    "fig = plt.figure(figsize=(7,5))\n",
    "\n",
    "for i in source_bins.keys():\n",
    "     plt.plot(redshift_range, \n",
    "              source_bins[i], \n",
    "              color=dutchorange)\n",
    "        \n",
    "plt.xlabel(\"redshift\", fontsize=15)\n",
    "plt.ylabel(\"redshift distribution\", fontsize=15)\n",
    "plt.title(f\"SRD Y{forecast_year} Source Redshift Bins\", fontsize=20)\n",
    "plt.savefig(f\"SRD_source_bins_year{forecast_year}.pdf\")"
   ]
  }
 ],
 "metadata": {
  "hide_input": false,
  "kernelspec": {
   "display_name": "Python 3",
   "language": "python",
   "name": "python3"
  },
  "language_info": {
   "codemirror_mode": {
    "name": "ipython",
    "version": 3
   },
   "file_extension": ".py",
   "mimetype": "text/x-python",
   "name": "python",
   "nbconvert_exporter": "python",
   "pygments_lexer": "ipython3",
   "version": "3.7.6"
  },
  "latex_envs": {
   "LaTeX_envs_menu_present": true,
   "autoclose": false,
   "autocomplete": true,
   "bibliofile": "biblio.bib",
   "cite_by": "apalike",
   "current_citInitial": 1,
   "eqLabelWithNumbers": true,
   "eqNumInitial": 1,
   "hotkeys": {
    "equation": "Ctrl-E",
    "itemize": "Ctrl-I"
   },
   "labels_anchors": false,
   "latex_user_defs": false,
   "report_style_numbering": false,
   "user_envs_cfg": false
  },
  "toc": {
   "base_numbering": 1,
   "nav_menu": {},
   "number_sections": true,
   "sideBar": true,
   "skip_h1_title": false,
   "title_cell": "Table of Contents",
   "title_sidebar": "Contents",
   "toc_cell": false,
   "toc_position": {
    "height": "calc(100% - 180px)",
    "left": "10px",
    "top": "150px",
    "width": "165px"
   },
   "toc_section_display": true,
   "toc_window_display": true
  }
 },
 "nbformat": 4,
 "nbformat_minor": 5
}
