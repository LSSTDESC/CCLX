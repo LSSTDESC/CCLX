{
 "cells": [
  {
   "cell_type": "markdown",
   "metadata": {},
   "source": [
    "# Example MCMC analysis\n",
    "\n",
    "This tutorial will go through running a likelihood analysis with CCL. It will compare \"data\" and \"model\" angular shear power spectra, to infer values for the $\\Omega_c$ and $\\sigma_8$ parameters."
   ]
  },
  {
   "cell_type": "code",
   "execution_count": 5,
   "metadata": {
    "scrolled": true
   },
   "outputs": [],
   "source": [
    "import emcee # MCMC package https://emcee.readthedocs.io/en/stable/user/install/\n",
    "import matplotlib \n",
    "import pyccl as ccl\n",
    "%matplotlib inline\n",
    "\n",
    "# for nicer plots http://seaborn.pydata.org -- optional\n",
    "# if you don't want to use it, you can comment this and the next line\n",
    "import seaborn as sns; sns.set_style('darkgrid')\n",
    "sns.set_context(\"talk\")"
   ]
  },
  {
   "cell_type": "markdown",
   "metadata": {},
   "source": [
    "## The \"Data\"\n",
    "\n",
    "Let's create the \"data\" in the form of $C_\\ell$ As a proof of point, we'll make the \"data\" using CCL (as a proof of concept $-$ normally you will want to input your real data here)."
   ]
  },
  {
   "cell_type": "markdown",
   "metadata": {},
   "source": [
    "### First, we have to define a redshift distribution:"
   ]
  },
  {
   "cell_type": "code",
   "execution_count": 8,
   "metadata": {},
   "outputs": [],
   "source": [
    "z = np.linspace(0., 3., 1024)\n",
    "i_lim = 26. # Limiting i-band magnitude\n",
    "z0 = 0.0417*i_lim - 0.744\n",
    "\n",
    "ell = np.arange(2, 2000)\n",
    "delta_ell = ell[1]-ell[0]\n",
    "Ngal = 46. * 100.31 * (i_lim - 25.) # Normalisation, galaxies/arcmin^2\n",
    "pz = 1./(2.*z0) * (z / z0)**2. * np.exp(-z/z0) # Redshift distribution, p(z)\n",
    "dNdz = Ngal * pz # Number density distribution"
   ]
  },
  {
   "cell_type": "markdown",
   "metadata": {},
   "source": [
    "Now let's set the cosmological parameters for our \"data\" and create it as an angular shear $C_\\ell$"
   ]
  },
  {
   "cell_type": "code",
   "execution_count": 9,
   "metadata": {},
   "outputs": [],
   "source": [
    "cosmo = ccl.Cosmology(Omega_c=0.27, Omega_b=0.045, h=0.67, n_s=0.96,  sigma8=0.83, transfer_function='bbks')\n",
    "\n",
    "tracer1 = ccl.WeakLensingTracer(cosmo,dndz=(z,dNdz))\n",
    "tracer2 = ccl.WeakLensingTracer(cosmo,dndz=(z,dNdz))\n",
    "data    = ccl.angular_cl(cosmo, tracer1, tracer2, ell) #C_ell"
   ]
  },
  {
   "cell_type": "markdown",
   "metadata": {},
   "source": [
    "A simple plot to see how this looks:"
   ]
  },
  {
   "cell_type": "code",
   "execution_count": 11,
   "metadata": {},
   "outputs": [
    {
     "data": {
      "image/png": "[encoded data removed]",
      "text/plain": [
       "<Figure size 432x288 with 1 Axes>"
      ]
     },
     "metadata": {},
     "output_type": "display_data"
    }
   ],
   "source": [
    "plt.plot(ell,data)\n",
    "plt.xscale('log')\n",
    "plt.yscale('log')\n",
    "plt.xlabel(r'$\\ell$')\n",
    "plt.ylabel(r'$C_\\ell$')\n",
    "plt.show()"
   ]
  },
  {
   "cell_type": "markdown",
   "metadata": {},
   "source": [
    "## Make a covariance matrix:\n",
    "For the purpose of demonstration, we'll simply make a simplified diagonal covariance matrix without shape noise. Again you will want to input the actual covariance matrix here."
   ]
  },
  {
   "cell_type": "code",
   "execution_count": 12,
   "metadata": {},
   "outputs": [],
   "source": [
    "# C_ell^2/(Area of LSST survey*ell*delta ell)\n",
    "cov = np.diag(data**2)*2*np.pi/((4*np.pi*18000)*(np.pi/180)**2*ell*delta_ell) \n",
    "icov = np.linalg.inv(cov) #inverse of cov"
   ]
  },
  {
   "cell_type": "markdown",
   "metadata": {},
   "source": [
    "## Run the MCMC:"
   ]
  },
  {
   "cell_type": "markdown",
   "metadata": {},
   "source": [
    "Let's define our model that we want to test against our data. We'll use the same redshift distribution as above."
   ]
  },
  {
   "cell_type": "markdown",
   "metadata": {},
   "source": [
    "We will define `ln(probability)` (easier computationally that `probability`). Theta is the set of $\\Omega_c$ and $\\sigma_8$\n",
    "\n",
    "For the likelihood analysis, we'll use MCMC to find the set of parameters that minimises $\\chi^2 =(d - t)^T \\cdot \\Sigma^{-1} \\cdot (d-t)$, with $\\Sigma$: the covariance matrix $d$: data, and $t$: theory. The likelihood is then $L = e^{- \\chi^2 / 2}$\n"
   ]
  },
  {
   "cell_type": "code",
   "execution_count": 40,
   "metadata": {},
   "outputs": [],
   "source": [
    "def lnprob(theta):\n",
    "    cosmo = ccl.Cosmology(\n",
    "        Omega_c=theta[0], Omega_b=0.045, h=0.67, n_s=0.96, sigma8=theta[1], \n",
    "        transfer_function='bbks')\n",
    "        \n",
    "    tracer1 = ccl.WeakLensingTracer(cosmo,dndz=(z,dNdz))\n",
    "    tracer2 = ccl.WeakLensingTracer(cosmo,dndz=(z,dNdz))\n",
    "    model = ccl.angular_cl(cosmo, tracer1, tracer2, ell)\n",
    "    diff = data-model\n",
    "    return -np.dot(diff,np.dot(icov,diff))/2.0"
   ]
  },
  {
   "cell_type": "markdown",
   "metadata": {},
   "source": [
    "We'll sample a 2-dimensional Gaussian"
   ]
  },
  {
   "cell_type": "code",
   "execution_count": 41,
   "metadata": {},
   "outputs": [],
   "source": [
    "ndim = 2"
   ]
  },
  {
   "cell_type": "markdown",
   "metadata": {},
   "source": [
    "Choose an initial set of positions for the walkers as a 2-d gaussian around some reasonable values:"
   ]
  },
  {
   "cell_type": "code",
   "execution_count": 42,
   "metadata": {},
   "outputs": [],
   "source": [
    "nwalkers = 10\n",
    "p0 = [np.array([0.27,0.83])*np.ones(ndim)+np.array([0.05*numpy.random.rand(),0.1*numpy.random.rand()]) for i in range(nwalkers)] \n",
    "p0 = np.array(p0)\n",
    "p0 = p0 - len(p0)*[[0.025,0.05]]"
   ]
  },
  {
   "cell_type": "markdown",
   "metadata": {},
   "source": [
    "Initialize the sampler with the chosen specs."
   ]
  },
  {
   "cell_type": "code",
   "execution_count": 43,
   "metadata": {},
   "outputs": [],
   "source": [
    "sampler = emcee.EnsembleSampler(nwalkers, ndim, lnprob)"
   ]
  },
  {
   "cell_type": "markdown",
   "metadata": {},
   "source": [
    "Run 50 steps as a burn-in"
   ]
  },
  {
   "cell_type": "code",
   "execution_count": 44,
   "metadata": {},
   "outputs": [
    {
     "name": "stdout",
     "output_type": "stream",
     "text": [
      "CPU times: user 12min 42s, sys: 11.9 s, total: 12min 54s\n",
      "Wall time: 1min 40s\n"
     ]
    }
   ],
   "source": [
    "%time pos, prob, state = sampler.run_mcmc(p0, 50)"
   ]
  },
  {
   "cell_type": "markdown",
   "metadata": {},
   "source": [
    "Reset the chain to remove the burn-in samples"
   ]
  },
  {
   "cell_type": "code",
   "execution_count": 45,
   "metadata": {},
   "outputs": [],
   "source": [
    "sampler.reset()"
   ]
  },
  {
   "cell_type": "markdown",
   "metadata": {},
   "source": [
    "Starting from the final position in the burn-in chain, sample for 100 steps"
   ]
  },
  {
   "cell_type": "code",
   "execution_count": 46,
   "metadata": {},
   "outputs": [],
   "source": [
    "sampler.run_mcmc(pos, 100, rstate0=state); "
   ]
  },
  {
   "cell_type": "markdown",
   "metadata": {},
   "source": [
    "Print out the mean acceptance fraction. In general, acceptance_fraction has an entry for each  walker so, in this case, it is a 10-dimensional vector."
   ]
  },
  {
   "cell_type": "code",
   "execution_count": 47,
   "metadata": {},
   "outputs": [
    {
     "name": "stdout",
     "output_type": "stream",
     "text": [
      "Mean acceptance fraction: 0.704\n"
     ]
    }
   ],
   "source": [
    "print(\"Mean acceptance fraction:\", np.mean(sampler.acceptance_fraction))"
   ]
  },
  {
   "cell_type": "markdown",
   "metadata": {},
   "source": [
    "Get the samples from the results to plot them later:"
   ]
  },
  {
   "cell_type": "code",
   "execution_count": 48,
   "metadata": {},
   "outputs": [],
   "source": [
    "samples = sampler.chain[:, :, :].reshape((-1, ndim))"
   ]
  },
  {
   "cell_type": "markdown",
   "metadata": {},
   "source": [
    "Results as mean and $95\\%$ Confidence interval of $\\Omega_c$ and $\\sigma_8$:"
   ]
  },
  {
   "cell_type": "code",
   "execution_count": 49,
   "metadata": {},
   "outputs": [],
   "source": [
    "mapout=map(lambda v: (v[1], v[2]-v[1], v[1]-v[0]),\n",
    "                             zip(*np.percentile(samples, [2.5, 50, 97.5],\n",
    "                                                axis=0)))"
   ]
  },
  {
   "cell_type": "markdown",
   "metadata": {},
   "source": [
    "Results as a contour plot of the two parameters $-$ $\\Omega_c$ and $\\sigma_8$:"
   ]
  },
  {
   "cell_type": "code",
   "execution_count": 50,
   "metadata": {
    "scrolled": false
   },
   "outputs": [
    {
     "data": {
      "text/plain": [
       "<seaborn.axisgrid.JointGrid at 0x160d63490>"
      ]
     },
     "execution_count": 50,
     "metadata": {},
     "output_type": "execute_result"
    },
    {
     "data": {
      "image/png": "[encoded data removed]",
      "text/plain": [
       "<Figure size 720x720 with 3 Axes>"
      ]
     },
     "metadata": {},
     "output_type": "display_data"
    }
   ],
   "source": [
    "sns.jointplot(\n",
    "    data=mapout,\n",
    "    x=samples[:,0],\n",
    "    y=samples[:,1],\n",
    "    kind='kde',\n",
    "    height=10).set_axis_labels(r\"$\\Omega_c$\", r\"$\\sigma_8$\")"
   ]
  },
  {
   "cell_type": "code",
   "execution_count": null,
   "metadata": {},
   "outputs": [],
   "source": []
  }
 ],
 "metadata": {
  "kernelspec": {
   "display_name": "ccl-release",
   "language": "python",
   "name": "ccl-release"
  },
  "language_info": {
   "codemirror_mode": {
    "name": "ipython",
    "version": 3
   },
   "file_extension": ".py",
   "mimetype": "text/x-python",
   "name": "python",
   "nbconvert_exporter": "python",
   "pygments_lexer": "ipython3",
   "version": "3.9.13"
  }
 },
 "nbformat": 4,
 "nbformat_minor": 2
}
