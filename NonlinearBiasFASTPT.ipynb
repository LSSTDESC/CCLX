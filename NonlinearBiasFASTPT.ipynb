{
 "cells": [
  {
   "cell_type": "markdown",
   "metadata": {},
   "source": [
    "# Nonlinear bias in CCL"
   ]
  },
  {
   "cell_type": "code",
   "execution_count": null,
   "metadata": {},
   "outputs": [],
   "source": [
    "import numpy as np\n",
    "import pylab as plt\n",
    "import pyccl as ccl\n",
    "%matplotlib inline"
   ]
  },
  {
   "cell_type": "markdown",
   "metadata": {},
   "source": [
    "## Preliminaries\n",
    "Let's begin by setting up a cosmology and a couple of redshift distributions and bias functions"
   ]
  },
  {
   "cell_type": "code",
   "execution_count": null,
   "metadata": {},
   "outputs": [],
   "source": [
    "# Cosmology\n",
    "cosmo = ccl.Cosmology(Omega_c=0.27, Omega_b=0.045, h=0.67, A_s=2.1e-9, n_s=0.96)\n",
    "\n",
    "# Redshift-dependent functions\n",
    "z = np.linspace(0,1.2,1024)\n",
    "# Redshift distributions\n",
    "nz1 = np.exp(-((z-0.5)/0.05)**2/2)\n",
    "nz2 = np.exp(-((z-0.65)/0.05)**2/2)\n",
    "# growth factor\n",
    " #gz = ccl.growth_factor(cosmo,1./(1+z))\n",
    "# Galaxy Bias\n",
    "b_1 = 2.0 # constant values for now\n",
    "b_2 = 1.0\n",
    "b_s = 1.0\n",
    "# ell values for C_ell calculation below\n",
    "ells = np.geomspace(2,2000,20)"
   ]
  },
  {
   "cell_type": "markdown",
   "metadata": {},
   "source": [
    "## Tracer objects\n",
    "Now we define some new \"tracer objects\" that use nonlinear biasing"
   ]
  },
  {
   "cell_type": "code",
   "execution_count": null,
   "metadata": {},
   "outputs": [],
   "source": [
    "# This tracer will only include the density contribution. Bias must be 1 with the current setup, which applies bias with P(k)\n",
    "bz1=np.ones_like(z)\n",
    "gc_d1 = ccl.NumberCountsTracer(cosmo, has_rsd=False, dndz=(z,nz1), bias=(z,bz1), mag_bias=None)\n",
    "gc_d2 = ccl.NumberCountsTracer(cosmo, has_rsd=False, dndz=(z,nz1), bias=(z,bz1), mag_bias=None)\n",
    "# This tracer will only include the lensing shear contribution (by setting the ia_bias to None)\n",
    "wl_s = ccl.WeakLensingTracer(cosmo, dndz=(z,nz2), has_shear=True, ia_bias=None)\n",
    "\n",
    "# tracers for the test with linear bias with halofit\n",
    "bz_hf=b_1*np.ones_like(z)\n",
    "gc_d1_hf = ccl.NumberCountsTracer(cosmo, has_rsd=False, dndz=(z,nz1), bias=(z,bz_hf), mag_bias=None)\n",
    "gc_d2_hf = ccl.NumberCountsTracer(cosmo, has_rsd=False, dndz=(z,nz1), bias=(z,bz_hf), mag_bias=None)"
   ]
  },
  {
   "cell_type": "code",
   "execution_count": null,
   "metadata": {},
   "outputs": [],
   "source": [
    "# We also need \"PTTracers\" which define with PT is being done.\n",
    "PTTracer1 = ccl.nl_pt.PTNumberCountsTracer(b1=b_1,b2=b_2,bs=b_s)\n",
    "PTTracer2 = ccl.nl_pt.PTNumberCountsTracer(b1=b_1,b2=b_2,bs=b_s)\n",
    "PTmatter_hack = ccl.nl_pt.PTNumberCountsTracer(b1=1.0) # b1=1 is equivalent to DM.\n",
    "PTmatter = ccl.nl_pt.PTMatterTracer()"
   ]
  },
  {
   "cell_type": "markdown",
   "metadata": {},
   "source": [
    "## Initialize the PT workspace, and do calculations."
   ]
  },
  {
   "cell_type": "code",
   "execution_count": null,
   "metadata": {},
   "outputs": [],
   "source": [
    "PTC=ccl.nl_pt.PTCalculator()\n",
    "pk_gg=ccl.nl_pt.get_pt_pk2d(cosmo, tracer1=PTTracer1, tracer2=PTTracer2, ptc=PTC, sub_lowk=True)\n",
    "pk_gm=ccl.nl_pt.get_pt_pk2d(cosmo, tracer1=PTTracer1, tracer2=PTmatter, ptc=PTC)"
   ]
  },
  {
   "cell_type": "code",
   "execution_count": null,
   "metadata": {},
   "outputs": [],
   "source": [
    "#use those power spectra to calculate C_ells.\n",
    "cl_gc_nonlin = ccl.angular_cl(cosmo, gc_d1, gc_d2, ells, p_of_k_a=pk_gg)\n",
    "cl_ggl_nonlin = ccl.angular_cl(cosmo, gc_d1, wl_s, ells, p_of_k_a=pk_gm)\n",
    "\n",
    "# or do it all in one step, which is probably what we want to do to use the tracer info properly.\n",
    "# we might want to link the two different types of tracers, \n",
    "# or make a wrapper that creates both needed tracers at the same time.\n",
    "cl_gc_nonlin = ccl.angular_cl(cosmo, gc_d1, gc_d2, ells,\n",
    "                              p_of_k_a=ccl.nl_pt.get_pt_pk2d(cosmo, tracer1=PTTracer1, ptc=PTC, tracer2=PTTracer2,sub_lowk=True))\n",
    "cl_ggl_nonlin = ccl.angular_cl(cosmo, gc_d1, wl_s, ells,\n",
    "                               p_of_k_a=ccl.nl_pt.get_pt_pk2d(cosmo, tracer1=PTTracer1, ptc=PTC, tracer2=PTmatter))\n",
    "\n",
    "# Also make clustering cl without lowk subtracted for correlation function.\n",
    "cl_gc_nonlin_lowk = ccl.angular_cl(cosmo, gc_d1, gc_d2, ells,\n",
    "                                   p_of_k_a=ccl.nl_pt.get_pt_pk2d(cosmo, tracer1=PTTracer1, ptc=PTC, tracer2=PTTracer2,sub_lowk=False))"
   ]
  },
  {
   "cell_type": "code",
   "execution_count": null,
   "metadata": {},
   "outputs": [],
   "source": [
    "# Now let's calculate a few quantities with the standard (nonlinear) power spectrum for comparison.\n",
    "\n",
    "cl_gc_halofit = ccl.angular_cl(cosmo, gc_d1_hf, gc_d2_hf, ells)\n",
    "cl_ggl_halofit = ccl.angular_cl(cosmo, gc_d1_hf, wl_s, ells)"
   ]
  },
  {
   "cell_type": "code",
   "execution_count": null,
   "metadata": {},
   "outputs": [],
   "source": [
    "# Plot stuff\n",
    "plt.plot(ells, 1E4*cl_gc_nonlin, 'r-', label='gc')\n",
    "plt.plot(ells, 1E4*cl_ggl_nonlin, 'y-', label='ggl')\n",
    "plt.plot(ells, 1E4*cl_gc_halofit, 'k--', label='ggl hf')\n",
    "plt.plot(ells, 1E4*cl_ggl_halofit, 'k--', label='ggl hf')\n",
    "plt.xscale('log')\n",
    "plt.yscale('log')\n",
    "plt.xlabel('$\\\\ell$', fontsize=14)\n",
    "plt.ylabel('$10^4\\\\times C_\\\\ell$', fontsize=14)\n",
    "plt.legend(loc='lower left', fontsize=12, frameon=False)\n",
    "plt.show()"
   ]
  },
  {
   "cell_type": "code",
   "execution_count": null,
   "metadata": {},
   "outputs": [],
   "source": [
    "# Finally, let's do some correlation functions\n",
    "theta_deg = np.logspace(-1, np.log10(5.), 20) # Theta is in degrees\n",
    "\n",
    "#Clustering:\n",
    "#xi_clu = ccl.correlation(cosmo, ells, cl_gc_nonlin2, theta_deg, corr_type='GG', method='FFTLog')\n",
    "# Note, after updating numpy, the above integral appears to crash.\n",
    "# It is clearly numerically unstable, but it was not crashing before.\n",
    "\n",
    "#Instead, use the one with low k contribution left in:\n",
    "xi_clu = ccl.correlation(cosmo, ells, cl_gc_nonlin_lowk, theta_deg, corr_type='GG', method='FFTLog')\n",
    "\n",
    "#galaxy-galaxy lensing\n",
    "xi_ggl = ccl.correlation(cosmo, ells, cl_ggl_nonlin, theta_deg, corr_type='GL', method='FFTLog')\n",
    "\n",
    "#halofit versions\n",
    "xi_clu_halofit = ccl.correlation(cosmo, ells, cl_gc_halofit, theta_deg, corr_type='GG', method='FFTLog')\n",
    "xi_ggl_halofit = ccl.correlation(cosmo, ells, cl_ggl_halofit, theta_deg, corr_type='GL', method='FFTLog')\n"
   ]
  },
  {
   "cell_type": "code",
   "execution_count": null,
   "metadata": {},
   "outputs": [],
   "source": [
    "#And plot the results\n",
    "plt.plot(theta_deg, xi_clu, label='Clustering')\n",
    "plt.plot(theta_deg, xi_clu_halofit, 'k--', label='Clustering HF')\n",
    "plt.plot(theta_deg, xi_ggl, label='GGL')\n",
    "plt.plot(theta_deg, xi_ggl_halofit, 'g--',label='GGL HF')\n",
    "plt.xticks(fontsize=14)\n",
    "plt.yticks(fontsize=14)\n",
    "plt.xscale('log')\n",
    "plt.yscale('log')\n",
    "plt.legend(loc='upper right')\n",
    "plt.xlabel(r'$\\theta$ (deg)',fontsize=18)\n",
    "plt.ylabel(r'$(\\theta)$',fontsize=18)\n",
    "plt.show()"
   ]
  },
  {
   "cell_type": "code",
   "execution_count": null,
   "metadata": {},
   "outputs": [],
   "source": []
  }
 ],
 "metadata": {
  "kernelspec": {
   "display_name": "Python [default]",
   "language": "python",
   "name": "python3"
  },
  "language_info": {
   "codemirror_mode": {
    "name": "ipython",
    "version": 3
   },
   "file_extension": ".py",
   "mimetype": "text/x-python",
   "name": "python",
   "nbconvert_exporter": "python",
   "pygments_lexer": "ipython3",
   "version": "3.6.4"
  }
 },
 "nbformat": 4,
 "nbformat_minor": 2
}
