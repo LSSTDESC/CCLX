{
 "cells": [
  {
   "cell_type": "markdown",
   "metadata": {},
   "source": [
    "# Nonlinear bias using generalized tracers and power spectra\n",
    "This example showcases how to do nonlinear biasing with the generalized tracers and 2D power spectra implemented in CCL. First we show how this is done explicitly with most functions outside of CCL. Then we show the CCL functionality that does the same thing. We could use a comparison like this as a unit test in the future.\n",
    "\n",
    "For more on generalized tracers and power spectra, see GeneralizedTracers.ipynb"
   ]
  },
  {
   "cell_type": "code",
   "execution_count": null,
   "metadata": {},
   "outputs": [],
   "source": [
    "import numpy as np\n",
    "import pylab as plt\n",
    "import pyccl as ccl\n",
    "%matplotlib inline"
   ]
  },
  {
   "cell_type": "markdown",
   "metadata": {},
   "source": [
    "## Preliminaries\n",
    "Let's just begin by setting up a cosmology and some biases"
   ]
  },
  {
   "cell_type": "code",
   "execution_count": null,
   "metadata": {},
   "outputs": [],
   "source": [
    "# Cosmology\n",
    "cosmo = ccl.Cosmology(Omega_c=0.27, Omega_b=0.045, h=0.67, A_s=2.1e-9, n_s=0.96)\n",
    "\n",
    "# Biases for number counts \n",
    "b_1 = 2.0 # constant values for now\n",
    "b_2 = 1.0\n",
    "b_s = 1.0\n",
    "\n",
    "# Biases for IAs\n",
    "c_1 = 1.\n",
    "c_2 = 0.5\n",
    "c_d = 0.5"
   ]
  },
  {
   "cell_type": "markdown",
   "metadata": {},
   "source": [
    "## PT tracers\n",
    "Power spectra are Fourier-space correlations between two quantities. In CCL the quantities you want to correlate are defined in terms of so-called `PTTracers`. Here we create two of them, one for number counts (galaxy clustering), one for intrinsic alignments and one for matter."
   ]
  },
  {
   "cell_type": "code",
   "execution_count": null,
   "metadata": {},
   "outputs": [],
   "source": [
    "# Number counts\n",
    "ptt_g = ccl.PTNumberCountsTracer(b1=b_1, b2=b_2, bs=b_s)\n",
    "\n",
    "# Intrinsic alignments\n",
    "ptt_i = ccl.PTIntrinsicAlignmentTracer(c1=c_1, c2=c_2, cdelta=c_d)\n",
    "\n",
    "# Matter\n",
    "ptt_m = ccl.PTMatterTracer()\n",
    "\n",
    "# Note that we've assumed constant biases for simplicity, but you can also make them scale-dependent:\n",
    "z = np.linspace(0,1,128)\n",
    "bz = b_1 / ccl.growth_factor(cosmo, 1./(1+z))\n",
    "ptt_g_b = ccl.PTNumberCountsTracer(b1=(z, bz))"
   ]
  },
  {
   "cell_type": "markdown",
   "metadata": {},
   "source": [
    "## PT calculator\n",
    "Another object, `PTWorkspace` takes care of initializing FastPT (essentially precomputing some of the stuff it needs to get you PT power spectra). You'll need one of these before you can compute P(k)s."
   ]
  },
  {
   "cell_type": "code",
   "execution_count": null,
   "metadata": {},
   "outputs": [],
   "source": [
    "# The `with_NC` and `with_IA` flags will tell FastPT to initialize the right things.\n",
    "# `log10k_min/max and nk_per_decade will define the sampling in k you should use.\n",
    "wsp = ccl.PTWorkspace(with_NC=True, with_IA=True,\n",
    "                      log10k_min=-4, log10k_max=2, nk_per_decade=20)"
   ]
  },
  {
   "cell_type": "markdown",
   "metadata": {},
   "source": [
    "## PT power spectra\n",
    "Let's compute some power spectra! We do so by calling `get_pt_pk2d` with whatever tracers you want to cross-correlate. This will return a `Pk2D` object that you can then evaluate at whatever scale and redshift you want."
   ]
  },
  {
   "cell_type": "code",
   "execution_count": null,
   "metadata": {},
   "outputs": [],
   "source": [
    "# Galaxies x galaxies\n",
    "pk_gg = ccl.get_pt_pk2d(cosmo, wsp, ptt_g, ptt_g)\n",
    "\n",
    "# Galaxies x matter\n",
    "pk_gm = ccl.get_pt_pk2d(cosmo, wsp, ptt_g, ptt_m)\n",
    "\n",
    "# Galaxies x IAs\n",
    "pk_gi = ccl.get_pt_pk2d(cosmo, wsp, ptt_g, ptt_i)\n",
    "\n",
    "# IAs x IAs\n",
    "pk_ii = ccl.get_pt_pk2d(cosmo, wsp, ptt_i, ptt_i)\n",
    "\n",
    "# IAs x matter\n",
    "pk_im = ccl.get_pt_pk2d(cosmo, wsp, ptt_i, ptt_m)\n",
    "\n",
    "# Matter x matter\n",
    "pk_mm = ccl.get_pt_pk2d(cosmo, wsp, ptt_m, ptt_m)\n"
   ]
  },
  {
   "cell_type": "markdown",
   "metadata": {},
   "source": [
    "**Note the warning above!** FastPT is not yet able to compute IAs x galaxies in a consistent way. What CCL does is to use the full non-linear model for IAs, but use a linear bias for galaxies."
   ]
  },
  {
   "cell_type": "markdown",
   "metadata": {},
   "source": [
    "OK, let's now plot a few of these!"
   ]
  },
  {
   "cell_type": "code",
   "execution_count": null,
   "metadata": {},
   "outputs": [],
   "source": [
    "# Let's plot everything at z=0\n",
    "\n",
    "ks = np.logspace(-3,2,512)\n",
    "ps = {}\n",
    "ps['gg'] = pk_gg.eval(ks, 1., cosmo)\n",
    "ps['gi'] = pk_gi.eval(ks, 1., cosmo)\n",
    "ps['gm'] = pk_gm.eval(ks, 1., cosmo)\n",
    "ps['ii'] = pk_ii.eval(ks, 1., cosmo)\n",
    "ps['im'] = pk_im.eval(ks, 1., cosmo)\n",
    "ps['mm'] = pk_mm.eval(ks, 1., cosmo)\n",
    "\n",
    "plt.figure()\n",
    "for pn, p in ps.items():\n",
    "    plt.plot(ks, p, label=pn)\n",
    "plt.loglog()\n",
    "plt.legend(loc='lower left', ncol=2, fontsize=13)\n",
    "plt.ylim([1E0, 5E5])\n",
    "plt.xlabel(r'$k\\,\\,[{\\rm Mpc}^{-1}]$', fontsize=15)\n",
    "plt.ylabel(r'$P(k)\\,\\,[{\\rm Mpc}^{3}]$', fontsize=15)\n",
    "plt.show()"
   ]
  },
  {
   "cell_type": "markdown",
   "metadata": {},
   "source": [
    "## Angular power spectra\n",
    "We can now use these P(k)s to compute angular power spectra, passing them to `ccl.angular_cl`.\n",
    "Let's illustrate this specifically for the usual 3x2pt. We will define two standard tracers (not `PTTracer`s, but the ones used to compute angular power spectra) for number counts and weak lensing. The first one will be associated with our `PTNumberCountsTracer`, and the latter with out `PTMatterTracer`."
   ]
  },
  {
   "cell_type": "code",
   "execution_count": null,
   "metadata": {},
   "outputs": [],
   "source": [
    "z = np.linspace(0, 1.5, 1024)\n",
    "nz = np.exp(-((z-0.7)/0.1)**2)\n",
    "\n",
    "# We give this one a bias of 1, since we've taken care of galaxy bias at the P(k) level.\n",
    "t_g = ccl.NumberCountsTracer(cosmo, False, dndz=(z, nz), bias=(z, np.ones_like(z)))\n",
    "\n",
    "# Lensing\n",
    "t_l = ccl.WeakLensingTracer(cosmo, dndz=(z, nz))"
   ]
  },
  {
   "cell_type": "markdown",
   "metadata": {},
   "source": [
    "Now compute power spectra. Note how we pass the P(k)s we just calculated as `p_of_k_a`."
   ]
  },
  {
   "cell_type": "code",
   "execution_count": null,
   "metadata": {},
   "outputs": [],
   "source": [
    "ell = np.unique(np.geomspace(2,1000,100).astype(int)).astype(float)\n",
    "cls={}\n",
    "cls['gg'] = ccl.angular_cl(cosmo, t_g, t_g, ell, p_of_k_a=pk_gg)\n",
    "cls['gl'] = ccl.angular_cl(cosmo, t_g, t_l, ell, p_of_k_a=pk_gm)\n",
    "cls['ll'] = ccl.angular_cl(cosmo, t_l, t_l, ell, p_of_k_a=pk_mm)"
   ]
  },
  {
   "cell_type": "markdown",
   "metadata": {},
   "source": [
    "Plot away!"
   ]
  },
  {
   "cell_type": "code",
   "execution_count": null,
   "metadata": {},
   "outputs": [],
   "source": [
    "plt.figure()\n",
    "for cn, c in cls.items():\n",
    "    plt.plot(ell, c, label=cn)\n",
    "plt.loglog()\n",
    "plt.legend(loc='lower left', ncol=1, fontsize=13)\n",
    "plt.xlabel(r'$\\ell$', fontsize=15)\n",
    "plt.ylabel(r'$C_\\ell$', fontsize=15)\n",
    "plt.show()\n"
   ]
  },
  {
   "cell_type": "code",
   "execution_count": null,
   "metadata": {},
   "outputs": [],
   "source": []
  }
 ],
 "metadata": {
  "kernelspec": {
   "display_name": "Python [default]",
   "language": "python",
   "name": "python3"
  },
  "language_info": {
   "codemirror_mode": {
    "name": "ipython",
    "version": 3
   },
   "file_extension": ".py",
   "mimetype": "text/x-python",
   "name": "python",
   "nbconvert_exporter": "python",
   "pygments_lexer": "ipython3",
   "version": "3.6.4"
  }
 },
 "nbformat": 4,
 "nbformat_minor": 2
}
