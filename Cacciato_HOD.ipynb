{
 "cells": [
  {
   "cell_type": "code",
   "execution_count": 1,
   "metadata": {
    "collapsed": true
   },
   "outputs": [],
   "source": [
    "import pyccl as ccl\n",
    "import numpy as np\n",
    "from scipy.integrate import simps\n",
    "import matplotlib.pyplot as plt"
   ]
  },
  {
   "cell_type": "code",
   "execution_count": 2,
   "outputs": [],
   "source": [
    "import matplotlib as mpl\n",
    "mpl.rcParams['font.size'] = 16\n",
    "mpl.rcParams['text.usetex'] = 'True'"
   ],
   "metadata": {
    "collapsed": false,
    "pycharm": {
     "name": "#%%\n"
    }
   }
  },
  {
   "cell_type": "code",
   "execution_count": 3,
   "outputs": [],
   "source": [
    "cosmo = ccl.CosmologyVanillaLCDM()\n",
    "\n",
    "# Here we use a mass definition with Delta = 200 times the matter density,\n",
    "hmd_200m = ccl.halos.MassDef200m()\n",
    "# the Duffy 2008 concentration-mass relation,\n",
    "cM = ccl.halos.ConcentrationDuffy08(hmd_200m)"
   ],
   "metadata": {
    "collapsed": false,
    "pycharm": {
     "name": "#%%\n"
    }
   }
  },
  {
   "cell_type": "code",
   "execution_count": 4,
   "outputs": [],
   "source": [
    "class CacciatoHOD(ccl.halos.HaloProfileHOD):\n",
    "    def __init__(self, c_M_relation,\n",
    "                 Lmin, Lmax, N_L=64,\n",
    "                 lL_0=9.95, lM_1=11.24,\n",
    "                 gamma_1=3.18, gamma_2=0.245,\n",
    "                 sigma_c=0.157, alpha_s=-1.18,\n",
    "                 b_0=-1.17, b_1=1.53*0.739, b_2=-0.217*0.739**2,\n",
    "                 fh=1., fs=1.):\n",
    "        # fh, fs the scaling of c_M_relation, to be include in _usat_real/fourier\n",
    "        # b_1 and b_2 have been rescaled by h from Cacciato et al. 2013\n",
    "        self.cM = c_M_relation\n",
    "\n",
    "        self.Lmin = Lmin\n",
    "        self.Lmax = Lmax\n",
    "        self.N_L = N_L\n",
    "        self.L_arr = np.geomspace(self.Lmin, self.Lmax, self.N_L)\n",
    "\n",
    "        self.lL_0 = lL_0\n",
    "        self.L_0 = 10**lL_0\n",
    "        self.lM_1 = lM_1\n",
    "        self.M_1 = 10**lM_1\n",
    "        self.gamma_1 = gamma_1\n",
    "        self.gamma_2 = gamma_2\n",
    "        self.sigma_c = sigma_c\n",
    "        self.alpha_s = alpha_s\n",
    "        self.b_0 = b_0\n",
    "        self.b_1 = b_1\n",
    "        self.b_2 = b_2\n",
    "        self.loge = 0.4342944819 # logarithm of e\n",
    "\n",
    "        # TODO: Do I need to do this?\n",
    "        super(ccl.halos.HaloProfileHOD, self).__init__()\n",
    "\n",
    "    def _Lc(self, M):\n",
    "        return self.L_0 * (M/self.M_1) ** self.gamma_1 /\\\n",
    "               (1+(M/self.M_1)**(self.gamma_1-self.gamma_2))\n",
    "\n",
    "    def _phi_star_s(self, M):\n",
    "        M12 = M/10**12 # In solar masses\n",
    "        log_phi_star_s = self.b_0+self.b_1*np.log10(M12)+self.b_2*np.log10(M12)**2\n",
    "        return 10**log_phi_star_s\n",
    "\n",
    "    def _L_star_s(self, M):\n",
    "        return 0.562 * self._Lc(M)\n",
    "\n",
    "    def conditional_luminosity_function_central(self, L, M):\n",
    "        L_use = np.atleast_1d(L).reshape(1, -1)\n",
    "        M_use = np.atleast_1d(M).reshape(-1, 1)\n",
    "        return self.loge/(np.sqrt(2*np.pi)*self.sigma_c) * \\\n",
    "               np.exp(-(np.log10(L_use)-np.log10(self._Lc(M_use)))**2 /\\\n",
    "                        (2*self.sigma_c**2)) / L_use\n",
    "\n",
    "    def conditional_luminosity_function_satellite(self, L, M):\n",
    "        L_use = np.atleast_1d(L).reshape(1, -1)\n",
    "        M_use = np.atleast_1d(M).reshape(-1, 1)\n",
    "        return self._phi_star_s(M_use)/L_use * (L_use/self._L_star_s(M_use))**(self.alpha_s+1) * \\\n",
    "               np.exp(-(L_use/self._L_star_s(M_use))**2)\n",
    "\n",
    "    def _Nc(self, M, a):\n",
    "        return simps(\n",
    "            self.conditional_luminosity_function_central(self.L_arr, M),\n",
    "            self.L_arr)\n",
    "\n",
    "    def _Ns(self, M, a):\n",
    "        return simps(\n",
    "            self.conditional_luminosity_function_satellite(self.L_arr, M),\n",
    "            self.L_arr)"
   ],
   "metadata": {
    "collapsed": false,
    "pycharm": {
     "name": "#%%\n"
    }
   }
  },
  {
   "cell_type": "code",
   "execution_count": 5,
   "outputs": [],
   "source": [
    "hod = CacciatoHOD(cM, 1.5e7, 5.6e9)\n",
    "mass_arr = np.geomspace(1e8, 1e16, 128)\n",
    "Ns = hod._Ns(mass_arr, 1.)\n",
    "Nc = hod._Nc(mass_arr, 1.)"
   ],
   "metadata": {
    "collapsed": false,
    "pycharm": {
     "name": "#%%\n"
    }
   }
  },
  {
   "cell_type": "code",
   "execution_count": 6,
   "outputs": [
    {
     "data": {
      "text/plain": "<Figure size 432x288 with 1 Axes>",
      "image/png": "[encoded data removed]"
     },
     "metadata": {
      "needs_background": "light"
     },
     "output_type": "display_data"
    }
   ],
   "source": [
    "fig, ax = plt.subplots()\n",
    "ax.loglog(mass_arr, Ns, label='Satellites')\n",
    "ax.loglog(mass_arr, Nc, label='Centrals')\n",
    "ax.set_ylim([1e-4, 1e3])\n",
    "ax.legend()\n",
    "ax.set_xlabel('$M$ [M$_\\odot$]')\n",
    "ax.set_ylabel(r'$\\langle N_i|M \\rangle$')\n",
    "fig.tight_layout()\n",
    "plt.show()"
   ],
   "metadata": {
    "collapsed": false,
    "pycharm": {
     "name": "#%%\n"
    }
   }
  }
 ],
 "metadata": {
  "kernelspec": {
   "display_name": "Python 3",
   "language": "python",
   "name": "python3"
  },
  "language_info": {
   "codemirror_mode": {
    "name": "ipython",
    "version": 2
   },
   "file_extension": ".py",
   "mimetype": "text/x-python",
   "name": "python",
   "nbconvert_exporter": "python",
   "pygments_lexer": "ipython2",
   "version": "2.7.6"
  }
 },
 "nbformat": 4,
 "nbformat_minor": 0
}