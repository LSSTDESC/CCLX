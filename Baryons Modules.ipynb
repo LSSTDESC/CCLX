{
 "cells": [
  {
   "cell_type": "markdown",
   "id": "2e09fdb6-2987-4e9f-82c3-2a408c5c65a6",
   "metadata": {},
   "source": [
    "# Baryonic Modules in pyCCL"
   ]
  },
  {
   "cell_type": "markdown",
   "id": "7df62f2e-8618-42e6-9bd5-4c1abda083f1",
   "metadata": {},
   "source": [
    "An example notebook on how to use [baryonic models package](https://ccl.readthedocs.io/en/latest/api/pyccl.baryons.html) that was implemented in pyCCL v3."
   ]
  },
  {
   "cell_type": "code",
   "execution_count": null,
   "id": "080345b2",
   "metadata": {},
   "outputs": [],
   "source": [
    "import matplotlib.pyplot as plt\n",
    "import matplotlib.ticker as ticker\n",
    "from matplotlib.ticker import ScalarFormatter\n",
    "import numpy as np\n",
    "import pyccl as ccl"
   ]
  },
  {
   "cell_type": "markdown",
   "id": "31c25dbb-27df-4b30-8e50-bbf7fc5e4fac",
   "metadata": {},
   "source": [
    "Initialisation of cosmology object and scales"
   ]
  },
  {
   "cell_type": "code",
   "execution_count": null,
   "id": "2b9dc02a-a995-46c6-80e3-922950266043",
   "metadata": {},
   "outputs": [],
   "source": [
    "cosmology_vanilla = ccl.CosmologyVanillaLCDM()  # cosmology object\n",
    "k = np.logspace(-3, 1, 100)  # wavenumber\n",
    "a = 1.  # scale factor a z=0"
   ]
  },
  {
   "cell_type": "markdown",
   "id": "ffab7a3d-c13c-460d-bcb7-9c7a941c8b26",
   "metadata": {},
   "source": [
    "## Construct Power Spectra $P_k$"
   ]
  },
  {
   "cell_type": "markdown",
   "id": "d72a85ab-b8bd-464f-b134-956340c71ce0",
   "metadata": {},
   "source": [
    "Construct the nonlinear $P_k$ without baryonic boost"
   ]
  },
  {
   "cell_type": "code",
   "execution_count": null,
   "id": "f8414067-8862-452f-b061-f8a123da3410",
   "metadata": {},
   "outputs": [],
   "source": [
    "# Compute the nonlinear power spectra, no baryons\n",
    "# note that this is using halofit\n",
    "pk_nonlin = ccl.nonlin_matter_power(cosmology_vanilla, k, a)"
   ]
  },
  {
   "cell_type": "markdown",
   "id": "1dc95ee8-6511-4502-84e2-3de55dc09bac",
   "metadata": {},
   "source": [
    "Dark matter only $P_K$ from the Mira-Titan emulator"
   ]
  },
  {
   "cell_type": "code",
   "execution_count": null,
   "id": "bb171774-4855-4e5a-ac40-3ac355e4ddf8",
   "metadata": {},
   "outputs": [],
   "source": [
    "emulator_mt = ccl.CosmicemuMTIVPk(\"tot\")  # nonlinear power spectrum emulator for CosmicEmu (Mira-Titan IV)\n",
    "cosmology_dm = ccl.CosmologyVanillaLCDM(matter_power_spectrum=emulator_mt)  # cosmology object\n",
    "pk_dm = cosmology_dm.nonlin_matter_power(k, a)  # dark matter only power spectrum"
   ]
  },
  {
   "cell_type": "markdown",
   "id": "6678a2a6-20a4-4395-84ea-f3ce7dcefb84",
   "metadata": {},
   "source": [
    "HMCode (through CAMB). See [Mead+20](https://arxiv.org/abs/2009.01858) for more information."
   ]
  },
  {
   "cell_type": "code",
   "execution_count": null,
   "id": "4ed038d9-6a72-4533-9deb-ae59c1260027",
   "metadata": {},
   "outputs": [],
   "source": [
    "cosmology_hmcode = ccl.CosmologyVanillaLCDM(\n",
    "   matter_power_spectrum=\"camb\",\n",
    "   extra_parameters={\"camb\": {\"kmax\": 20.0,\n",
    "                               \"halofit_version\": \"mead2020_feedback\",\n",
    "                               \"HMCode_logT_AGN\": 7.8}}\n",
    ")\n",
    "pk_hmcode = cosmology_hmcode.nonlin_matter_power(k, a)"
   ]
  },
  {
   "cell_type": "markdown",
   "id": "96691b26-6795-421c-994a-5603c87e3706",
   "metadata": {},
   "source": [
    "Baryon Correction Model (Schneider et al. 2015). See [Schneider+ 15](https://arxiv.org/abs/1510.06034) for more information."
   ]
  },
  {
   "cell_type": "code",
   "execution_count": null,
   "id": "5bdf7dd2-30f3-4a5e-93d4-883e773626db",
   "metadata": {},
   "outputs": [],
   "source": [
    "bcm = ccl.baryons.BaryonsSchneider15()  # baryonic correction model\n",
    "pk_bcm_boost = bcm.include_baryonic_effects(\n",
    "    cosmo=cosmology_vanilla,\n",
    "    pk=cosmology_vanilla.get_nonlin_power()\n",
    ")\n",
    "pk_bcm = pk_bcm_boost(k, a)"
   ]
  },
  {
   "cell_type": "markdown",
   "id": "4a777d37-c3d1-4ae1-8597-f5eee176b7c1",
   "metadata": {},
   "source": [
    "BACCOemu $P_k$. For more information about BACCOemu, see [Aricò+ 20](https://arxiv.org/abs/2011.15018).\n",
    "\n",
    "This is an emulator option built on top of the “baryonification” strategy (moving particles in DMO sims to represent baryonic feedback scenarios). This is not full hydro but it reproduces hydro sims well (1-2%). So note that include_baryonic_effects will not work on BACCO."
   ]
  },
  {
   "cell_type": "code",
   "execution_count": null,
   "id": "59d54482-c7e0-49f3-97ca-d38d2691fbc8",
   "metadata": {},
   "outputs": [],
   "source": [
    "baccoemu = ccl.BaccoemuBaryons()\n",
    "cosmology_baccoemu = ccl.CosmologyVanillaLCDM()\n",
    "bacco_boost = baccoemu.boost_factor(cosmology_baccoemu, k, a)\n",
    "pk_bacco = cosmology_baccoemu.nonlin_matter_power(k, a) * bacco_boost"
   ]
  },
  {
   "cell_type": "markdown",
   "id": "f4926ca5-818f-41c3-b00f-920d3321c7e3",
   "metadata": {},
   "source": [
    "Van Daalen boosted $P_k$. For more information, see [Van Daalen+ 2019](https://arxiv.org/abs/1906.00968)."
   ]
  },
  {
   "cell_type": "code",
   "execution_count": null,
   "id": "d9c8d408-d176-4ea3-9808-646a7ceaf790",
   "metadata": {},
   "outputs": [],
   "source": [
    "vd = ccl.baryons.BaryonsvanDaalen19()  # Van Daalen 2019\n",
    "boost_pk_vd = vd.include_baryonic_effects(\n",
    "   cosmo=cosmology_vanilla,\n",
    "    pk=cosmology_vanilla.get_nonlin_power()\n",
    ")\n",
    "pk_vd = boost_pk_vd(k, a)"
   ]
  },
  {
   "cell_type": "markdown",
   "id": "e8a93a6d-33a8-47dc-b347-212210d029ec",
   "metadata": {},
   "source": [
    "## Plot results"
   ]
  },
  {
   "cell_type": "code",
   "execution_count": null,
   "id": "3607216c-3c55-463d-bec1-6e3c64336cef",
   "metadata": {},
   "outputs": [],
   "source": [
    "# List of vivid colors\n",
    "colors = [\n",
    "    \"#FF0000\",  # Vivid Red\n",
    "    \"#0047AB\",  # Royal Blue\n",
    "    \"#FFA500\",  # Vivid Orange\n",
    "    \"#4B0082\",  # Indigo\n",
    "    \"#9ACD32\",  # Yellow Green\n",
    "    \"#FF00FF\"   # Magenta\n",
    "]\n",
    "\n",
    "# List of pk data and their labels\n",
    "pk_data = [\n",
    "    (pk_dm/pk_nonlin, \"$P(k)^\\mathrm{DM}$\"),\n",
    "    (pk_hmcode/pk_nonlin, \"$P(k)^\\mathrm{Mead 20}$\"),\n",
    "    (pk_bcm/pk_nonlin, \"$P(k)^\\mathrm{Schneider 15}$\"),\n",
    "    (pk_bacco/pk_nonlin, \"$P(k)^\\mathrm{Aricò 21}$\"),\n",
    "    (pk_vd/pk_nonlin, \"$P(k)^\\mathrm{Van Daalen 19}$\")\n",
    "]\n",
    "\n",
    "# Set the figure size\n",
    "plt.figure(figsize=(7, 5))\n",
    "# Add the reference line for pk_nonlin / pk_nonlin = 1\n",
    "plt.semilogx(k, [1]*len(k), c=\"darkgray\", lw=2.5)  # Using darkgray color for the reference line\n",
    "\n",
    "# Loop over the pk data and colors to plot them\n",
    "for (pk, label), color in zip(pk_data, colors):\n",
    "    plt.semilogx(k, pk, c=color, label=label, lw=3)\n",
    "\n",
    "# Setting the properties for ticks, labels, and legend\n",
    "plt.gca().tick_params(direction='in', which='both')  \n",
    "plt.xlabel(\"$k \\: \\: \\mathrm{[Mpc^{-1}]}$\", fontsize=15)\n",
    "plt.ylabel(\"$F (k)$\", fontsize=15)\n",
    "\n",
    "# Change y-axis labels to standard notation\n",
    "plt.gca().yaxis.set_major_formatter(ScalarFormatter(useOffset=False))\n",
    "\n",
    "plt.legend(frameon=False, fontsize=15)\n",
    "plt.show()"
   ]
  }
 ],
 "metadata": {
  "hide_input": false,
  "kernelspec": {
   "display_name": "Python 3 (ipykernel)",
   "language": "python",
   "name": "python3"
  },
  "language_info": {
   "codemirror_mode": {
    "name": "ipython",
    "version": 3
   },
   "file_extension": ".py",
   "mimetype": "text/x-python",
   "name": "python",
   "nbconvert_exporter": "python",
   "pygments_lexer": "ipython3",
   "version": "3.11.5"
  },
  "latex_envs": {
   "LaTeX_envs_menu_present": true,
   "autoclose": false,
   "autocomplete": true,
   "bibliofile": "biblio.bib",
   "cite_by": "apalike",
   "current_citInitial": 1,
   "eqLabelWithNumbers": true,
   "eqNumInitial": 1,
   "hotkeys": {
    "equation": "Ctrl-E",
    "itemize": "Ctrl-I"
   },
   "labels_anchors": false,
   "latex_user_defs": false,
   "report_style_numbering": false,
   "user_envs_cfg": false
  },
  "toc": {
   "base_numbering": 1,
   "nav_menu": {},
   "number_sections": true,
   "sideBar": true,
   "skip_h1_title": false,
   "title_cell": "Table of Contents",
   "title_sidebar": "Contents",
   "toc_cell": false,
   "toc_position": {
    "height": "calc(100% - 180px)",
    "left": "10px",
    "top": "150px",
    "width": "165px"
   },
   "toc_section_display": true,
   "toc_window_display": true
  }
 },
 "nbformat": 4,
 "nbformat_minor": 5
}
