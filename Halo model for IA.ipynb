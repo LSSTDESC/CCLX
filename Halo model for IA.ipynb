{
 "cells": [
  {
   "cell_type": "markdown",
   "source": [
    "# Intrinisc alignments power spectra using the halo model\n",
    "This example showcases how to use the halo model for intrinsic alignment within CCL to compute GI and II contributions to the shear-shear power spectrum."
   ],
   "metadata": {
    "collapsed": false,
    "pycharm": {
     "name": "#%% md\n"
    }
   }
  },
  {
   "cell_type": "code",
   "execution_count": 1,
   "outputs": [],
   "source": [
    "import pyccl as ccl\n",
    "import numpy as np\n",
    "import matplotlib.pyplot as plt\n",
    "from scipy.integrate import simps\n",
    "import functools"
   ],
   "metadata": {
    "collapsed": false,
    "pycharm": {
     "name": "#%%\n"
    }
   }
  },
  {
   "cell_type": "markdown",
   "source": [
    "# Preliminaries\n",
    "First we generate the cosmology, the wavenumber $k$ and scale factor $a$ arrays. The arrays are used for computing the power spectrum, $P(k,a)$."
   ],
   "metadata": {
    "collapsed": false,
    "pycharm": {
     "name": "#%% md\n"
    }
   }
  },
  {
   "cell_type": "code",
   "execution_count": 2,
   "outputs": [],
   "source": [
    "cosmo = ccl.Cosmology(Omega_c=0.27, Omega_b=0.045, h=0.67, sigma8=0.83, n_s=0.96)\n",
    "\n",
    "k_arr = np.geomspace(1E-3, 1e3, 256)  # For evaluating\n",
    "a_arr = np.linspace(0.1, 1, 32)\n",
    "k_arr_over_h = k_arr / cosmo['h']  # For plotting"
   ],
   "metadata": {
    "collapsed": false,
    "pycharm": {
     "name": "#%%\n"
    }
   }
  },
  {
   "cell_type": "markdown",
   "source": [
    "We also need to initialize halo model quantities. These are:\n",
    " - A halo mass definition.\n",
    " - A concentration-mass relation.\n",
    " - A halo mass function.\n",
    " - A halo bias function.\n",
    " - A halo model calculator object that will take care of the various integrals."
   ],
   "metadata": {
    "collapsed": false,
    "pycharm": {
     "name": "#%% md\n"
    }
   }
  },
  {
   "cell_type": "code",
   "execution_count": 3,
   "outputs": [],
   "source": [
    "# Here we use a mass definition with Delta = 200 times the matter density,\n",
    "hmd_200m = ccl.halos.MassDef200m()\n",
    "\n",
    "# the Duffy 2008 concentration-mass relation,\n",
    "cM = ccl.halos.ConcentrationDuffy08(hmd_200m)\n",
    "\n",
    "# the Tinker 2008 halo mass function,\n",
    "nM = ccl.halos.MassFuncTinker08(cosmo, mass_def=hmd_200m)\n",
    "\n",
    "# the Tinker 2010 halo bias,\n",
    "bM = ccl.halos.HaloBiasTinker10(cosmo, mass_def=hmd_200m)\n",
    "\n",
    "# and the halo model calculator object.\n",
    "hmc = ccl.halos.HMCalculator(cosmo, nM, bM, hmd_200m)"
   ],
   "metadata": {
    "collapsed": false,
    "pycharm": {
     "name": "#%%\n"
    }
   }
  },
  {
   "cell_type": "markdown",
   "source": [
    "For this halo model, which is based on Fortuna et al. (2021, [https://arxiv.org/abs/2003.02700](https://arxiv.org/abs/2003.02700)), we will need a halo mass profile (taken to be an NFW) and a satellite intrinsic ellipticity/shear profile $\\gamma^I(\\mathbf{r}, M)$. Power spectra can then be computed by taking the Fourier transform of these profiles. To do this in CCL, we generate a satellite shear HOD:"
   ],
   "metadata": {
    "collapsed": false,
    "pycharm": {
     "name": "#%% md\n"
    }
   }
  },
  {
   "cell_type": "code",
   "execution_count": 4,
   "outputs": [],
   "source": [
    "sat_gamma_HOD = ccl.halos.SatelliteShearHOD(cM, a1h=0.001, b=-2)"
   ],
   "metadata": {
    "collapsed": false,
    "pycharm": {
     "name": "#%%\n"
    }
   }
  },
  {
   "cell_type": "markdown",
   "source": [
    "# Satellite intrinsic shear profile\n",
    "The real part of the satellite intrinsic shear profile is determined by $\\bar{\\gamma}$ which is taken to be\n",
    "$$\n",
    "\\bar{\\gamma}(r)= \\begin{cases}a_{1 h}\\left(\\frac{0.06}{r_{\\mathrm{vir}}}\\right)^{b}, & \\text { if } r<0.06 \\mathrm{Mpc} / h \\\\ a_{1 h}\\left(\\frac{r}{r_{\\mathrm{vir}}}\\right)^{b}, & \\text { if } r>0.06 \\mathrm{Mpc} / h,\\end{cases}\n",
    "$$\n",
    "while also imposing that $\\bar{\\gamma}(r)\\leq0.3$. The parameters ```a1h``` and ```b``` are inputs to the satellite shear HOD above, together with a concentration-mass relation. For a constant mean intrinsic shear $\\bar{\\gamma}$, one can set ```b=0``` and the ```a1h``` parameter will determine $\\bar{\\gamma}$.\n",
    "\n",
    "To obtain the Fourier transform of the profile, $\\hat{\\gamma}_s^I(\\mathbf{k}, M)$, the FFTLog method will be used by default. Other methods are available but slower. The FFTLog parameters have been set internally to produce fast and accurate results, but can be further tweaked with the ```sat_gamma_HOD_FFTLog.update_precision_fftlog``` function. The real-space and Fourier-space intrinsic shear profiles at redshift 0 for a halo with $M_h=10^{14}$ M$_\\odot$ look like this:"
   ],
   "metadata": {
    "collapsed": false,
    "pycharm": {
     "name": "#%% md\n"
    }
   }
  },
  {
   "cell_type": "code",
   "execution_count": 5,
   "outputs": [
    {
     "data": {
      "text/plain": "<Figure size 432x288 with 2 Axes>",
      "image/png": "[encoded data removed]"
     },
     "metadata": {
      "needs_background": "light"
     },
     "output_type": "display_data"
    }
   ],
   "source": [
    "Mhalo = 1e14 # Msun.\n",
    "a_eval = 1 # Redshift 0.\n",
    "\n",
    "gamma_r = sat_gamma_HOD._real(cosmo, k_arr, Mhalo, a_eval, hmd_200m)\n",
    "gamma_k = sat_gamma_HOD._usat_fourier(cosmo, k_arr, Mhalo, a_eval, hmd_200m)\n",
    "\n",
    "fig, ax = plt.subplots(1, 2)\n",
    "ax[0].plot(k_arr_over_h, gamma_r)\n",
    "ax[0].set_xscale('log')\n",
    "ax[0].set_yscale('log')\n",
    "ax[0].set_ylabel(r'$\\gamma\\,^I(r)\\,u(r,M)\\,$', fontsize=15)\n",
    "ax[0].set_xlabel(r'$r\\,\\,[{\\rm Mpc}/h]$', fontsize=15)\n",
    "\n",
    "ax[1].plot(k_arr_over_h, -gamma_k)\n",
    "ax[1].set_xscale('log')\n",
    "ax[1].set_yscale('log')\n",
    "ax[1].set_ylabel(r'$\\hat{\\gamma}\\,_s^I(k, M)\\,\\,$', fontsize=15)\n",
    "ax[1].set_xlabel(r'$k\\,\\,[h/{\\rm Mpc}]$', fontsize=15)\n",
    "fig.tight_layout()\n",
    "plt.show()"
   ],
   "metadata": {
    "collapsed": false,
    "pycharm": {
     "name": "#%%\n"
    }
   }
  },
  {
   "cell_type": "markdown",
   "source": [
    "# Defining the two-point function\n",
    "Following Eqs (17)-(18) in Fortuna et al. (2021), the 1-halo power spectra for the satellite GI and II contribution can be computed via\n",
    "$$\n",
    "P_{\\delta \\mathrm{I}, 1 \\mathrm{h}}^{s}(\\mathbf{k}, z)=\\int \\mathrm{d} M n(M) \\frac{M}{\\bar{\\rho}_{m}} f_{s}(z) \\frac{\\left\\langle N_{s} \\mid M\\right\\rangle}{\\bar{n}_{s}(z)}\\left|\\hat{\\gamma}_{s}^{I}(\\mathbf{k} \\mid M)\\right| u(k, M)\n",
    "$$\n",
    "and\n",
    "$$\n",
    "P_{\\mathrm{II}, 1 \\mathrm{h}}^{s s}(\\mathbf{k}, z)=\\int \\mathrm{d} M n(M) f_{s}^{2}(z) \\frac{\\left\\langle N_{s}\\left(N_{s}-1\\right) \\mid M\\right\\rangle}{\\bar{n}_{s}^{2}(z)}\\left|\\hat{\\gamma}_{s}^{I}(\\mathbf{k} \\mid M)\\right|^{2}.\n",
    "$$\n",
    "This will help us create the two-point function of the two profiles that are being correlated, $\\langle v_1 v_2 \\rangle$, with $v_2$ being the satellite intrinsic shear and $v_1$ the NFW profile or the satellite intrinsic shear for the $\\delta \\mathrm{I}$ and $\\mathrm{II}$ power spectra respectively. Before we can do this, however, we need to determine $f_s(z)$, the satellite fraction for our galaxy sample. This can be done self-consistently within the HOD by calculating the number densities of central and satellite galaxies,\n",
    "$$\n",
    "n_c(z) = \\int_{M_\\mathrm{min}}^{M_\\mathrm{max}} \\frac{\\langle N_c|M\\rangle}{M} \\frac{\\mathrm{d}n}{\\mathrm{d}\\log M} \\mathrm{d} M.\n",
    "$$\n",
    "and\n",
    "$$\n",
    "n_s(z) = \\int_{M_\\mathrm{min}}^{M_\\mathrm{max}} \\frac{\\langle N_c|M\\rangle\\langle N_s|M\\rangle}{M} \\frac{\\mathrm{d}n}{\\mathrm{d}\\log M} \\mathrm{d} M.\n",
    "$$\n",
    "The $\\bar{\\rho}_M$ will be taken from the matter profile, which is assumed to be NFW and, if satellites are assumed to have a Poisson distribution, it can be shown that $\\langle N_s(Ns-1)|M\\rangle=\\langle N_s|M\\rangle^2$ (Zheng 2004: ArXiV:0408564)."
   ],
   "metadata": {
    "collapsed": false,
    "pycharm": {
     "name": "#%% md\n"
    }
   }
  },
  {
   "cell_type": "code",
   "execution_count": 6,
   "outputs": [
    {
     "data": {
      "text/plain": "<Figure size 432x288 with 1 Axes>",
      "image/png": "[encoded data removed]"
     },
     "metadata": {
      "needs_background": "light"
     },
     "output_type": "display_data"
    }
   ],
   "source": [
    "def number_densities(a, prof: ccl.halos.HaloProfileHOD, M_use: np.ndarray):\n",
    "    nc = simps(prof._Nc(M_use, a) * nM.get_mass_function(cosmo, a=a, M=M_use) / M_use,\n",
    "               M_use)\n",
    "    ns = simps(prof._Nc(M_use, a) * prof._Ns(M_use, a) * nM.get_mass_function(cosmo, a=a, M=M_use) / M_use,\n",
    "               M_use)\n",
    "    return nc, ns\n",
    "\n",
    "def satellite_fraction(a, prof: ccl.halos.HaloProfileHOD, M_use: np.ndarray):\n",
    "    nc, ns = number_densities(a, prof, M_use)\n",
    "    if nc+ns==0:\n",
    "        return 0.\n",
    "    else:\n",
    "        return ns/(nc+ns)\n",
    "\n",
    "z_arr = np.linspace(0, 3, 100)\n",
    "plt.plot(z_arr, [satellite_fraction(a, sat_gamma_HOD, hmc._mass) for a in 1/(1+z_arr)])\n",
    "plt.xlabel('Redshift')\n",
    "plt.ylabel('$f_s(z)$')\n",
    "plt.show()"
   ],
   "metadata": {
    "collapsed": false,
    "pycharm": {
     "name": "#%%\n"
    }
   }
  },
  {
   "cell_type": "code",
   "execution_count": 7,
   "outputs": [],
   "source": [
    "# The two-point function for the GI and II power spectra.\n",
    "# In the GI case, the prof is assumed to be an NFW while prof2 is the satellite shear HOD.\n",
    "\n",
    "class Profile2pt_GI(ccl.halos.Profile2pt):\n",
    "    def fourier_2pt(self, prof: ccl.halos.HaloProfileHOD, cosmo, k, M, a,\n",
    "                    prof2: ccl.halos.HaloProfileHOD, mass_def=None):\n",
    "        Ns_M_mean = prof2._Ns(M, a).reshape(len(M), 1)\n",
    "        Nc_mean, Ns_mean = number_densities(a, prof2, hmc._mass)\n",
    "        if Ns_mean+Nc_mean==0:\n",
    "            fs = 0.\n",
    "        else:\n",
    "            fs = Ns_mean/(Nc_mean+Ns_mean)\n",
    "        # average matter density.\n",
    "        rhom_HM = hmc.profile_norm(cosmo, a, prof)**(-1)\n",
    "        # average number of satellites.\n",
    "        sHOD = ccl.halos.HaloProfileHOD(cM, fc_0=0., ns_independent=True)\n",
    "        nbar_s = hmc.profile_norm(cosmo, a, sHOD)**(-1)\n",
    "        return fs * Ns_M_mean * prof._fourier(cosmo, k, M, a, mass_def) * \\\n",
    "                prof2._usat_fourier(cosmo, k, M, a, mass_def)/(nbar_s * rhom_HM)\n",
    "\n",
    "class Profile2pt_II(ccl.halos.Profile2pt):\n",
    "    def fourier_2pt(self, prof: ccl.halos.HaloProfileHOD, cosmo, k, M, a,\n",
    "                    prof2=None, mass_def=None):\n",
    "        Ns_M_mean = prof._Ns(M, a).reshape(len(M), 1)\n",
    "        Nc_mean, Ns_mean = number_densities(a, prof, hmc._mass)\n",
    "        if Ns_mean+Nc_mean==0:\n",
    "            fs = 0.\n",
    "        else:\n",
    "            fs = Ns_mean/(Nc_mean+Ns_mean)\n",
    "        # average number of satellites.\n",
    "        sHOD = ccl.halos.HaloProfileHOD(cM, fc_0=0., ns_independent=True)\n",
    "        nbar_s = hmc.profile_norm(cosmo, a, sHOD)**(-1)\n",
    "        return fs ** 2. * Ns_M_mean ** 2. * prof._usat_fourier(cosmo, k, M, a, mass_def) ** 2. / nbar_s ** 2.\n",
    "\n",
    "HOD2pt_II = Profile2pt_II()\n",
    "HOD2pt_GI = Profile2pt_GI()"
   ],
   "metadata": {
    "collapsed": false,
    "pycharm": {
     "name": "#%%\n"
    }
   }
  },
  {
   "cell_type": "markdown",
   "source": [
    "# Power spectra\n",
    "We now have all we need to compute the 1-halo satellite power spectra for the GI and II contributions. We can use the ```ccl.halos.halomod_power_spectrum``` class to sample these across the scale factor and wavenumber ranges we defined earlier."
   ],
   "metadata": {
    "collapsed": false,
    "pycharm": {
     "name": "#%% md\n"
    }
   }
  },
  {
   "cell_type": "code",
   "execution_count": 8,
   "outputs": [],
   "source": [
    "# NFW profile for matter (G)\n",
    "NFW =  ccl.halos.HaloProfileNFW(cM, truncated=True, fourier_analytic=True)\n",
    "\n",
    "pk_GI_1h = ccl.halos.halomod_power_spectrum(cosmo, hmc, k_arr, 1., NFW,\n",
    "                                            normprof1=False, prof2=sat_gamma_HOD, prof_2pt=HOD2pt_GI, get_2h=False)\n",
    "pk_II_1h = ccl.halos.halomod_power_spectrum(cosmo, hmc, k_arr, 1., sat_gamma_HOD,\n",
    "                                            normprof1=False, prof_2pt=HOD2pt_II, get_2h=False)"
   ],
   "metadata": {
    "collapsed": false,
    "pycharm": {
     "name": "#%%\n"
    }
   }
  },
  {
   "cell_type": "markdown",
   "source": [
    "Let's also compute the NLA power spectra for comparison."
   ],
   "metadata": {
    "collapsed": false,
    "pycharm": {
     "name": "#%% md\n"
    }
   }
  },
  {
   "cell_type": "code",
   "source": [
    "A_NLA=1\n",
    "C1 = 5e-14/cosmo['h']**2\n",
    "C1tilde = A_NLA * C1 * cosmo['Omega_m'] * ccl.physical_constants.RHO_CRITICAL * cosmo['h']**2 / ccl.background.growth_factor(cosmo, 1)\n",
    "pk_II_NLA = C1tilde**2 * ccl.nonlin_matter_power(cosmo, k_arr, 1)\n",
    "pk_GI_NLA = -C1tilde * ccl.nonlin_matter_power(cosmo, k_arr, 1)"
   ],
   "metadata": {
    "collapsed": false,
    "pycharm": {
     "name": "#%%\n"
    }
   },
   "execution_count": 9,
   "outputs": []
  },
  {
   "cell_type": "code",
   "execution_count": 10,
   "outputs": [
    {
     "data": {
      "text/plain": "<Figure size 864x288 with 2 Axes>",
      "image/png": "[encoded data removed]"
     },
     "metadata": {
      "needs_background": "light"
     },
     "output_type": "display_data"
    }
   ],
   "source": [
    "#\n",
    "\n",
    "fig, ax = plt.subplots(1, 2, figsize=(12,4))\n",
    "\n",
    "ax[0].plot(k_arr_over_h, pk_II_1h, label='1-halo', c='r')\n",
    "ax[0].plot(k_arr_over_h, pk_II_NLA, label='NLA', c='b', ls='-')\n",
    "ax[0].set_ylabel(r'$P_{\\mathrm{II}}(k)$', fontsize=15)\n",
    "ax[0].set_xlabel(r'$k\\,\\,[h/{\\rm Mpc}]$', fontsize=15)\n",
    "ax[0].legend()\n",
    "\n",
    "ax[1].plot(k_arr_over_h, -pk_GI_1h, label='1-halo', c='r')\n",
    "ax[1].plot(k_arr_over_h, -pk_GI_NLA, label='NLA', c='b', ls='-')\n",
    "ax[1].set_ylabel(r'$-P_{\\mathrm{GI}}(k)$', fontsize=15)\n",
    "ax[1].set_xlabel(r'$k\\,\\,[h/{\\rm Mpc}]$', fontsize=15)\n",
    "\n",
    "for a in ax:\n",
    "    a.set_xlim([1e-3, 1e3])\n",
    "    a.set_ylim([1e-11, 1e5])\n",
    "    a.set_xscale('log')\n",
    "    a.set_yscale('log')\n",
    "\n",
    "fig.tight_layout()\n",
    "plt.show()"
   ],
   "metadata": {
    "collapsed": false,
    "pycharm": {
     "name": "#%%\n"
    }
   }
  },
  {
   "cell_type": "markdown",
   "source": [
    "Other contributions can also be considered, such as 2-halo terms and contributions from central galaxies. However, on small scales the satellite 1-halo term dominates while on large scales alignments follow the NLA model. In this notebook, we follow Fortuna et al. (2021) and show how to generate an angular power spectrum that is determined by those two contributions, with window functions to treat double counting at intermediate scales.\n",
    "$$\n",
    "P(k,a) = P_\\mathrm{NLA}(k,a)\\exp\\left[-(k/k_\\mathrm{2h})^2\\right]+P_\\mathrm{1h}^s(k,a)\\left(1-\\exp\\left[-(k/k_\\mathrm{1h})^2\\right]\\right)\n",
    "$$\n",
    "To incorporate this windowing, we need to create a function that calculates this and a Pk2D object that uses this function."
   ],
   "metadata": {
    "collapsed": false,
    "pycharm": {
     "name": "#%% md\n"
    }
   }
  },
  {
   "cell_type": "code",
   "execution_count": 11,
   "outputs": [],
   "source": [
    "def get_total_p_of_k_a(k, a, cosmo, sat_shear_prof, p_type='II', A_NLA=1, k1h=4, k2h=6):\n",
    "    C1 = 5e-14/cosmo['h']**2\n",
    "    C1tilde = A_NLA*C1*cosmo['Omega_m']*ccl.physical_constants.RHO_CRITICAL*cosmo['h']**2/ccl.background.growth_factor(cosmo, a)\n",
    "    # NFW profile for matter (G)\n",
    "    NFW =  ccl.halos.HaloProfileNFW(cM, truncated=True, fourier_analytic=True)\n",
    "    if p_type=='GI':\n",
    "        pk_1h = ccl.halos.halomod_power_spectrum(cosmo, hmc, k, a,\n",
    "                                                 NFW, prof_2pt=HOD2pt_GI,\n",
    "                                                 prof2=sat_shear_prof, get_2h=False)\n",
    "        pk_NLA = -C1tilde*ccl.nonlin_matter_power(cosmo, k, a)\n",
    "    elif p_type=='II':\n",
    "        pk_1h = ccl.halos.halomod_power_spectrum(cosmo, hmc, k, a,\n",
    "                                                 sat_shear_prof, prof_2pt=HOD2pt_II,\n",
    "                                                 get_2h=False)\n",
    "        pk_NLA = C1tilde**2 * ccl.nonlin_matter_power(cosmo, k, a)\n",
    "    else:\n",
    "        raise ValueError('Power spectrum must be \"II\" or \"GI\".')\n",
    "    # Truncate 1-h and 2-h profiles to avoid double counting on intermediate scales (Fortuna+2021 app. A2)\n",
    "    k2h = k2h*cosmo['h'] #1/Mpc\n",
    "    k1h = k1h*cosmo['h'] #1/Mpc\n",
    "    pk_total = pk_NLA * np.exp(-(k/k2h)**2) + pk_1h * (1-np.exp(-(k/k1h)**2))\n",
    "    return pk_total"
   ],
   "metadata": {
    "collapsed": false,
    "pycharm": {
     "name": "#%%\n"
    }
   }
  },
  {
   "cell_type": "code",
   "execution_count": 12,
   "outputs": [],
   "source": [
    "# Generate partial functions with all parameters set except for (k, a) to input in the Pk2D class.\n",
    "pkfuncGI=functools.partial(get_total_p_of_k_a,\n",
    "                           cosmo=cosmo,\n",
    "                           sat_shear_prof=sat_gamma_HOD,\n",
    "                           p_type='GI')\n",
    "pkfuncII=functools.partial(get_total_p_of_k_a,\n",
    "                           cosmo=cosmo,\n",
    "                           sat_shear_prof=sat_gamma_HOD,\n",
    "                           p_type='II')\n",
    "# Create two Pk2D objects with the required function as input.\n",
    "pofka_GI = ccl.pk2d.Pk2D(pkfunc=pkfuncGI, cosmo=cosmo, is_logp=False)\n",
    "pofka_II = ccl.pk2d.Pk2D(pkfunc=pkfuncII, cosmo=cosmo, is_logp=False)"
   ],
   "metadata": {
    "collapsed": false,
    "pycharm": {
     "name": "#%%\n"
    }
   }
  },
  {
   "cell_type": "markdown",
   "source": [
    "Now we can compute the angular power spectrum of the total GI and II contributions using a redshift distributions and the CCL tracers."
   ],
   "metadata": {
    "collapsed": false,
    "pycharm": {
     "name": "#%% md\n"
    }
   }
  },
  {
   "cell_type": "code",
   "execution_count": 13,
   "outputs": [],
   "source": [
    "z_arr = np.linspace(0., 3., 256)\n",
    "i_lim = 26. # Limiting i-band magnitude\n",
    "z0 = 0.0417*i_lim - 0.744\n",
    "pz = 1./(2.*z0) * (z_arr / z0)**2. * np.exp(-z_arr/z0) # Redshift distribution, p(z)\n",
    "\n",
    "bi1 = np.ones(len(z_arr)) # A_IA = 1 in the NLA model\n",
    "# A tracer without shear and A_ia contribution. The alignment will be from the power spectrum.\n",
    "ia_tracer = ccl.WeakLensingTracer(cosmo,dndz = (z_arr, pz), has_shear=False, ia_bias = (z_arr,bi1), use_A_ia=False)\n",
    "# A tracer without shear but with A_ia, to plot the NLA-only contribution for comparison.\n",
    "ia_NLA_tracer = ccl.WeakLensingTracer(cosmo,dndz = (z_arr, pz), has_shear=False, ia_bias = (z_arr,bi1), use_A_ia=True)\n",
    "# A weak gravitational lensing tracer for the GI term.\n",
    "wl_tracer = ccl.WeakLensingTracer(cosmo,dndz = (z_arr, pz))\n",
    "\n",
    "l_arr = np.geomspace(10, 30000).astype(int)\n",
    "\n",
    "cl_GI = ccl.angular_cl(cosmo, wl_tracer, ia_tracer, l_arr, p_of_k_a = pofka_GI)\n",
    "cl_II = ccl.angular_cl(cosmo, ia_tracer, ia_tracer, l_arr, p_of_k_a = pofka_II)\n",
    "cl_GG = ccl.angular_cl(cosmo, wl_tracer, wl_tracer, l_arr)\n",
    "cl_GI_NLA = ccl.angular_cl(cosmo, wl_tracer, ia_NLA_tracer, l_arr)\n",
    "cl_II_NLA = ccl.angular_cl(cosmo, ia_NLA_tracer, ia_NLA_tracer, l_arr)"
   ],
   "metadata": {
    "collapsed": false,
    "pycharm": {
     "name": "#%%\n"
    }
   }
  },
  {
   "cell_type": "code",
   "execution_count": 14,
   "outputs": [
    {
     "data": {
      "text/plain": "<Figure size 720x288 with 2 Axes>",
      "image/png": "[encoded data removed]"
     },
     "metadata": {
      "needs_background": "light"
     },
     "output_type": "display_data"
    }
   ],
   "source": [
    "lfac = l_arr * (l_arr + 1) / (2 * np.pi)\n",
    "\n",
    "fig, ax = plt.subplots(1,2, figsize=(10,4))\n",
    "\n",
    "ax[0].plot(l_arr, lfac * cl_II, label='1-halo')\n",
    "ax[0].plot(l_arr, lfac * cl_II_NLA, label='NLA')\n",
    "#ax[0].plot(l_arr, lfac * cl_GG, label='GG')\n",
    "ax[0].set_ylabel(r'$\\ell(\\ell+1)C_\\ell^{\\mathrm{II}}/(2\\pi)$', fontsize=15)\n",
    "ax[0].legend()\n",
    "\n",
    "ax[1].plot(l_arr, -lfac * cl_GI)\n",
    "ax[1].plot(l_arr, -lfac * cl_GI_NLA, label='NLA')\n",
    "ax[1].set_ylabel(r'$-\\ell(\\ell+1)C_\\ell^{\\mathrm{GI}}/(2\\pi)$', fontsize=15)\n",
    "\n",
    "for a in ax:\n",
    "    a.set_xscale('log')\n",
    "    a.set_yscale('log')\n",
    "#    a.set_ylim([1e-7, 1e-4])\n",
    "    a.set_xlabel(r'$\\ell$', fontsize=15)\n",
    "\n",
    "fig.tight_layout()\n",
    "plt.show()"
   ],
   "metadata": {
    "collapsed": false,
    "pycharm": {
     "name": "#%%\n"
    }
   }
  },
  {
   "cell_type": "code",
   "execution_count": 14,
   "outputs": [],
   "source": [],
   "metadata": {
    "collapsed": false,
    "pycharm": {
     "name": "#%%\n"
    }
   }
  }
 ],
 "metadata": {
  "kernelspec": {
   "display_name": "Python 3",
   "language": "python",
   "name": "python3"
  },
  "language_info": {
   "codemirror_mode": {
    "name": "ipython",
    "version": 2
   },
   "file_extension": ".py",
   "mimetype": "text/x-python",
   "name": "python",
   "nbconvert_exporter": "python",
   "pygments_lexer": "ipython2",
   "version": "2.7.6"
  }
 },
 "nbformat": 4,
 "nbformat_minor": 0
}